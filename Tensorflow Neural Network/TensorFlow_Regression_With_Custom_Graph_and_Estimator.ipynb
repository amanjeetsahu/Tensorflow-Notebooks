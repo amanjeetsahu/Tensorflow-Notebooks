{
  "nbformat": 4,
  "nbformat_minor": 0,
  "metadata": {
    "kernelspec": {
      "display_name": "Python 3",
      "language": "python",
      "name": "python3"
    },
    "language_info": {
      "codemirror_mode": {
        "name": "ipython",
        "version": 3
      },
      "file_extension": ".py",
      "mimetype": "text/x-python",
      "name": "python",
      "nbconvert_exporter": "python",
      "pygments_lexer": "ipython3",
      "version": "3.5.4"
    },
    "colab": {
      "name": "TensorFlow-Regression-With-Custom-Graph-and-Estimator.ipynb",
      "provenance": []
    }
  },
  "cells": [
    {
      "cell_type": "markdown",
      "metadata": {
        "collapsed": true,
        "id": "fnmrE6xP-q0B",
        "colab_type": "text"
      },
      "source": [
        "# TensorFlow Regression Example"
      ]
    },
    {
      "cell_type": "markdown",
      "metadata": {
        "id": "YH6E2ivY-q0E",
        "colab_type": "text"
      },
      "source": [
        "## Creating Data"
      ]
    },
    {
      "cell_type": "code",
      "metadata": {
        "id": "APp_9t5q-q0F",
        "colab_type": "code",
        "colab": {}
      },
      "source": [
        "import numpy as np\n",
        "import pandas as pd\n",
        "import matplotlib.pyplot as plt\n",
        "%matplotlib inline"
      ],
      "execution_count": 0,
      "outputs": []
    },
    {
      "cell_type": "code",
      "metadata": {
        "id": "wa6wkXUH-q0I",
        "colab_type": "code",
        "colab": {}
      },
      "source": [
        "# 1 Million Points\n",
        "x_data = np.linspace(0.0,10.0,1000000)"
      ],
      "execution_count": 0,
      "outputs": []
    },
    {
      "cell_type": "code",
      "metadata": {
        "id": "jZYAdQIH-q0L",
        "colab_type": "code",
        "colab": {}
      },
      "source": [
        "noise = np.random.randn(len(x_data))"
      ],
      "execution_count": 0,
      "outputs": []
    },
    {
      "cell_type": "code",
      "metadata": {
        "id": "Yft7sRK--q0N",
        "colab_type": "code",
        "colab": {}
      },
      "source": [
        "# y = mx + b + noise_levels\n",
        "b = 5\n",
        "\n",
        "y_true =  (0.5 * x_data ) + 5 + noise"
      ],
      "execution_count": 0,
      "outputs": []
    },
    {
      "cell_type": "code",
      "metadata": {
        "id": "pgQb1kkG-q0Q",
        "colab_type": "code",
        "colab": {}
      },
      "source": [
        "my_data = pd.concat([pd.DataFrame(data=x_data,columns=['X Data']),pd.DataFrame(data=y_true,columns=['Y'])],axis=1)"
      ],
      "execution_count": 0,
      "outputs": []
    },
    {
      "cell_type": "code",
      "metadata": {
        "id": "fh9lBQrS-q0T",
        "colab_type": "code",
        "colab": {
          "base_uri": "https://localhost:8080/",
          "height": 195
        },
        "outputId": "b98ed633-638e-46a7-f1ae-a4b570e92c26"
      },
      "source": [
        "my_data.head()"
      ],
      "execution_count": 7,
      "outputs": [
        {
          "output_type": "execute_result",
          "data": {
            "text/html": [
              "<div>\n",
              "<style scoped>\n",
              "    .dataframe tbody tr th:only-of-type {\n",
              "        vertical-align: middle;\n",
              "    }\n",
              "\n",
              "    .dataframe tbody tr th {\n",
              "        vertical-align: top;\n",
              "    }\n",
              "\n",
              "    .dataframe thead th {\n",
              "        text-align: right;\n",
              "    }\n",
              "</style>\n",
              "<table border=\"1\" class=\"dataframe\">\n",
              "  <thead>\n",
              "    <tr style=\"text-align: right;\">\n",
              "      <th></th>\n",
              "      <th>X Data</th>\n",
              "      <th>Y</th>\n",
              "    </tr>\n",
              "  </thead>\n",
              "  <tbody>\n",
              "    <tr>\n",
              "      <th>0</th>\n",
              "      <td>0.00000</td>\n",
              "      <td>5.955496</td>\n",
              "    </tr>\n",
              "    <tr>\n",
              "      <th>1</th>\n",
              "      <td>0.00001</td>\n",
              "      <td>3.677087</td>\n",
              "    </tr>\n",
              "    <tr>\n",
              "      <th>2</th>\n",
              "      <td>0.00002</td>\n",
              "      <td>5.330649</td>\n",
              "    </tr>\n",
              "    <tr>\n",
              "      <th>3</th>\n",
              "      <td>0.00003</td>\n",
              "      <td>6.171198</td>\n",
              "    </tr>\n",
              "    <tr>\n",
              "      <th>4</th>\n",
              "      <td>0.00004</td>\n",
              "      <td>6.148470</td>\n",
              "    </tr>\n",
              "  </tbody>\n",
              "</table>\n",
              "</div>"
            ],
            "text/plain": [
              "    X Data         Y\n",
              "0  0.00000  5.955496\n",
              "1  0.00001  3.677087\n",
              "2  0.00002  5.330649\n",
              "3  0.00003  6.171198\n",
              "4  0.00004  6.148470"
            ]
          },
          "metadata": {
            "tags": []
          },
          "execution_count": 7
        }
      ]
    },
    {
      "cell_type": "code",
      "metadata": {
        "id": "xhjmp9jL-q0W",
        "colab_type": "code",
        "colab": {
          "base_uri": "https://localhost:8080/",
          "height": 296
        },
        "outputId": "9b061306-406f-48bb-be85-870e4c19c4b1"
      },
      "source": [
        "my_data.sample(n=250).plot(kind='scatter',x='X Data',y='Y')"
      ],
      "execution_count": 8,
      "outputs": [
        {
          "output_type": "execute_result",
          "data": {
            "text/plain": [
              "<matplotlib.axes._subplots.AxesSubplot at 0x7f378bb34828>"
            ]
          },
          "metadata": {
            "tags": []
          },
          "execution_count": 8
        },
        {
          "output_type": "display_data",
          "data": {
            "image/png": "[encoded data removed]",
            "text/plain": [
              "<Figure size 432x288 with 1 Axes>"
            ]
          },
          "metadata": {
            "tags": []
          }
        }
      ]
    },
    {
      "cell_type": "markdown",
      "metadata": {
        "id": "M3i-I9LO-q0Z",
        "colab_type": "text"
      },
      "source": [
        "# TensorFlow\n",
        "## Batch Size\n",
        "\n",
        "We will take the data in batches (1,000,000 points is a lot to pass in at once)"
      ]
    },
    {
      "cell_type": "code",
      "metadata": {
        "id": "SvhRDX_G-q0Z",
        "colab_type": "code",
        "colab": {
          "base_uri": "https://localhost:8080/",
          "height": 62
        },
        "outputId": "b8d365ec-5d10-43cc-b319-3ebf3a247aae"
      },
      "source": [
        "import tensorflow as tf"
      ],
      "execution_count": 9,
      "outputs": [
        {
          "output_type": "display_data",
          "data": {
            "text/html": [
              "<p style=\"color: red;\">\n",
              "The default version of TensorFlow in Colab will soon switch to TensorFlow 2.x.<br>\n",
              "We recommend you <a href=\"https://www.tensorflow.org/guide/migrate\" target=\"_blank\">upgrade</a> now \n",
              "or ensure your notebook will continue to use TensorFlow 1.x via the <code>%tensorflow_version 1.x</code> magic:\n",
              "<a href=\"https://colab.research.google.com/notebooks/tensorflow_version.ipynb\" target=\"_blank\">more info</a>.</p>\n"
            ],
            "text/plain": [
              "<IPython.core.display.HTML object>"
            ]
          },
          "metadata": {
            "tags": []
          }
        }
      ]
    },
    {
      "cell_type": "code",
      "metadata": {
        "id": "ICxBZ86J-q0d",
        "colab_type": "code",
        "colab": {}
      },
      "source": [
        "# Random 10 points to grab\n",
        "batch_size = 8"
      ],
      "execution_count": 0,
      "outputs": []
    },
    {
      "cell_type": "markdown",
      "metadata": {
        "id": "FvdHzFh5-q0f",
        "colab_type": "text"
      },
      "source": [
        "** Variables **"
      ]
    },
    {
      "cell_type": "code",
      "metadata": {
        "id": "VGJO73Lq-q0g",
        "colab_type": "code",
        "colab": {}
      },
      "source": [
        "m = tf.Variable(0.5)\n",
        "b = tf.Variable(1.0)"
      ],
      "execution_count": 0,
      "outputs": []
    },
    {
      "cell_type": "markdown",
      "metadata": {
        "id": "C7YwEGX7-q0i",
        "colab_type": "text"
      },
      "source": [
        "** Placeholders **"
      ]
    },
    {
      "cell_type": "code",
      "metadata": {
        "id": "3DWMcpWG-q0j",
        "colab_type": "code",
        "colab": {}
      },
      "source": [
        "xph = tf.placeholder(tf.float32,[batch_size])\n",
        "yph = tf.placeholder(tf.float32,[batch_size])"
      ],
      "execution_count": 0,
      "outputs": []
    },
    {
      "cell_type": "markdown",
      "metadata": {
        "id": "Z6qS86ZI-q0l",
        "colab_type": "text"
      },
      "source": [
        "** Graph **"
      ]
    },
    {
      "cell_type": "code",
      "metadata": {
        "id": "l3mE67YT-q0m",
        "colab_type": "code",
        "colab": {}
      },
      "source": [
        "y_model = m*xph + b"
      ],
      "execution_count": 0,
      "outputs": []
    },
    {
      "cell_type": "markdown",
      "metadata": {
        "id": "ken5og-N-q0o",
        "colab_type": "text"
      },
      "source": [
        "** Loss Function **"
      ]
    },
    {
      "cell_type": "code",
      "metadata": {
        "id": "qZ0LJ9mp-q0p",
        "colab_type": "code",
        "colab": {}
      },
      "source": [
        "error = tf.reduce_sum(tf.square(yph-y_model))"
      ],
      "execution_count": 0,
      "outputs": []
    },
    {
      "cell_type": "markdown",
      "metadata": {
        "id": "ufdGb5UV-q0r",
        "colab_type": "text"
      },
      "source": [
        "** Optimizer **"
      ]
    },
    {
      "cell_type": "code",
      "metadata": {
        "id": "pxMzbQBk-q0s",
        "colab_type": "code",
        "colab": {}
      },
      "source": [
        "optimizer = tf.train.GradientDescentOptimizer(learning_rate=0.001)\n",
        "train = optimizer.minimize(error)"
      ],
      "execution_count": 0,
      "outputs": []
    },
    {
      "cell_type": "markdown",
      "metadata": {
        "id": "o4kE5-I0-q0u",
        "colab_type": "text"
      },
      "source": [
        "** Initialize Variables **"
      ]
    },
    {
      "cell_type": "code",
      "metadata": {
        "id": "F8uSJHlg-q0v",
        "colab_type": "code",
        "colab": {}
      },
      "source": [
        "init = tf.global_variables_initializer()"
      ],
      "execution_count": 0,
      "outputs": []
    },
    {
      "cell_type": "markdown",
      "metadata": {
        "id": "xn8uohGc-q0y",
        "colab_type": "text"
      },
      "source": [
        "### Session"
      ]
    },
    {
      "cell_type": "code",
      "metadata": {
        "id": "7mbqUGHk-q0z",
        "colab_type": "code",
        "colab": {}
      },
      "source": [
        "with tf.Session() as sess:\n",
        "    \n",
        "    sess.run(init)\n",
        "    \n",
        "    batches = 1000\n",
        "    \n",
        "    for i in range(batches):\n",
        "        \n",
        "        rand_ind = np.random.randint(len(x_data),size=batch_size)\n",
        "        \n",
        "        feed = {xph:x_data[rand_ind],yph:y_true[rand_ind]}\n",
        "        \n",
        "        sess.run(train,feed_dict=feed)\n",
        "        \n",
        "    model_m,model_b = sess.run([m,b])"
      ],
      "execution_count": 0,
      "outputs": []
    },
    {
      "cell_type": "code",
      "metadata": {
        "id": "15dP4Hm3-q01",
        "colab_type": "code",
        "colab": {
          "base_uri": "https://localhost:8080/",
          "height": 34
        },
        "outputId": "10c8dc49-e072-472f-e36c-39a4cc268656"
      },
      "source": [
        "model_m"
      ],
      "execution_count": 18,
      "outputs": [
        {
          "output_type": "execute_result",
          "data": {
            "text/plain": [
              "0.49218076"
            ]
          },
          "metadata": {
            "tags": []
          },
          "execution_count": 18
        }
      ]
    },
    {
      "cell_type": "code",
      "metadata": {
        "id": "D6bpi3DE-q03",
        "colab_type": "code",
        "colab": {
          "base_uri": "https://localhost:8080/",
          "height": 34
        },
        "outputId": "317ece84-35c3-4d54-a36d-cad1af248c86"
      },
      "source": [
        "model_b"
      ],
      "execution_count": 19,
      "outputs": [
        {
          "output_type": "execute_result",
          "data": {
            "text/plain": [
              "4.873041"
            ]
          },
          "metadata": {
            "tags": []
          },
          "execution_count": 19
        }
      ]
    },
    {
      "cell_type": "markdown",
      "metadata": {
        "id": "x1l2Yu94-q05",
        "colab_type": "text"
      },
      "source": [
        "### Results"
      ]
    },
    {
      "cell_type": "code",
      "metadata": {
        "id": "n1Z8lEKE-q06",
        "colab_type": "code",
        "colab": {}
      },
      "source": [
        "y_hat = x_data * model_m + model_b"
      ],
      "execution_count": 0,
      "outputs": []
    },
    {
      "cell_type": "code",
      "metadata": {
        "id": "LDpxSsZS-q08",
        "colab_type": "code",
        "colab": {
          "base_uri": "https://localhost:8080/",
          "height": 296
        },
        "outputId": "6af2cbd2-1d0b-4754-b2ee-86789b3424e6"
      },
      "source": [
        "my_data.sample(n=250).plot(kind='scatter',x='X Data',y='Y')\n",
        "plt.plot(x_data,y_hat,'r')"
      ],
      "execution_count": 21,
      "outputs": [
        {
          "output_type": "execute_result",
          "data": {
            "text/plain": [
              "[<matplotlib.lines.Line2D at 0x7f374e3b7ba8>]"
            ]
          },
          "metadata": {
            "tags": []
          },
          "execution_count": 21
        },
        {
          "output_type": "display_data",
          "data": {
            "image/png": "[encoded data removed]",
            "text/plain": [
              "<Figure size 432x288 with 1 Axes>"
            ]
          },
          "metadata": {
            "tags": []
          }
        }
      ]
    },
    {
      "cell_type": "markdown",
      "metadata": {
        "id": "e-FZ1sdq-q0-",
        "colab_type": "text"
      },
      "source": [
        "## tf.estimator API\n",
        "\n",
        "Much simpler API for basic tasks like regression! We'll talk about more abstractions like TF-Slim later on."
      ]
    },
    {
      "cell_type": "code",
      "metadata": {
        "id": "LPmxZiMu-q0-",
        "colab_type": "code",
        "colab": {}
      },
      "source": [
        "feat_cols = [tf.feature_column.numeric_column('x',shape=[1])]"
      ],
      "execution_count": 0,
      "outputs": []
    },
    {
      "cell_type": "code",
      "metadata": {
        "id": "rVDjUvY7-q1B",
        "colab_type": "code",
        "colab": {
          "base_uri": "https://localhost:8080/",
          "height": 188
        },
        "outputId": "f7009c69-0ad7-4482-efd8-bfdc4e0f055a"
      },
      "source": [
        "estimator = tf.estimator.LinearRegressor(feature_columns=feat_cols)"
      ],
      "execution_count": 23,
      "outputs": [
        {
          "output_type": "stream",
          "text": [
            "INFO:tensorflow:Using default config.\n",
            "WARNING:tensorflow:Using temporary folder as model directory: /tmp/tmppcjjwrgp\n",
            "INFO:tensorflow:Using config: {'_model_dir': '/tmp/tmppcjjwrgp', '_tf_random_seed': None, '_save_summary_steps': 100, '_save_checkpoints_steps': None, '_save_checkpoints_secs': 600, '_session_config': allow_soft_placement: true\n",
            "graph_options {\n",
            "  rewrite_options {\n",
            "    meta_optimizer_iterations: ONE\n",
            "  }\n",
            "}\n",
            ", '_keep_checkpoint_max': 5, '_keep_checkpoint_every_n_hours': 10000, '_log_step_count_steps': 100, '_train_distribute': None, '_device_fn': None, '_protocol': None, '_eval_distribute': None, '_experimental_distribute': None, '_experimental_max_worker_delay_secs': None, '_session_creation_timeout_secs': 7200, '_service': None, '_cluster_spec': <tensorflow.python.training.server_lib.ClusterSpec object at 0x7f374e3ca2b0>, '_task_type': 'worker', '_task_id': 0, '_global_id_in_cluster': 0, '_master': '', '_evaluation_master': '', '_is_chief': True, '_num_ps_replicas': 0, '_num_worker_replicas': 1}\n"
          ],
          "name": "stdout"
        }
      ]
    },
    {
      "cell_type": "markdown",
      "metadata": {
        "id": "B2zRZF_o-q1D",
        "colab_type": "text"
      },
      "source": [
        "### Train Test Split\n",
        "\n",
        "We haven't actually performed a train test split yet! So let's do that on our data now and perform a more realistic version of a Regression Task"
      ]
    },
    {
      "cell_type": "code",
      "metadata": {
        "id": "AovZiJvm-q1D",
        "colab_type": "code",
        "colab": {}
      },
      "source": [
        "from sklearn.model_selection import train_test_split"
      ],
      "execution_count": 0,
      "outputs": []
    },
    {
      "cell_type": "code",
      "metadata": {
        "id": "QGKitdT8-q1F",
        "colab_type": "code",
        "colab": {}
      },
      "source": [
        "x_train, x_eval, y_train, y_eval = train_test_split(x_data,y_true,test_size=0.3, random_state = 101)"
      ],
      "execution_count": 0,
      "outputs": []
    },
    {
      "cell_type": "code",
      "metadata": {
        "id": "o4Muc6UT-q1H",
        "colab_type": "code",
        "colab": {
          "base_uri": "https://localhost:8080/",
          "height": 84
        },
        "outputId": "ac3cccd0-484d-4457-e8a1-1c3b39505976"
      },
      "source": [
        "print(x_train.shape)\n",
        "print(y_train.shape)\n",
        "\n",
        "print(x_eval.shape)\n",
        "print(y_eval.shape)"
      ],
      "execution_count": 26,
      "outputs": [
        {
          "output_type": "stream",
          "text": [
            "(700000,)\n",
            "(700000,)\n",
            "(300000,)\n",
            "(300000,)\n"
          ],
          "name": "stdout"
        }
      ]
    },
    {
      "cell_type": "markdown",
      "metadata": {
        "id": "KwfsLMEd-q1J",
        "colab_type": "text"
      },
      "source": [
        "### Set up Estimator Inputs"
      ]
    },
    {
      "cell_type": "code",
      "metadata": {
        "id": "AnVYcR2D-q1K",
        "colab_type": "code",
        "colab": {}
      },
      "source": [
        "# Can also do .pandas_input_fn\n",
        "input_func = tf.estimator.inputs.numpy_input_fn({'x':x_train},y_train,batch_size=4,num_epochs=None,shuffle=True)"
      ],
      "execution_count": 0,
      "outputs": []
    },
    {
      "cell_type": "code",
      "metadata": {
        "id": "8YAF2dTj-q1M",
        "colab_type": "code",
        "colab": {}
      },
      "source": [
        "train_input_func = tf.estimator.inputs.numpy_input_fn({'x':x_train},y_train,batch_size=4,num_epochs=1000,shuffle=False)"
      ],
      "execution_count": 0,
      "outputs": []
    },
    {
      "cell_type": "code",
      "metadata": {
        "id": "ucFEewab-q1P",
        "colab_type": "code",
        "colab": {}
      },
      "source": [
        "eval_input_func = tf.estimator.inputs.numpy_input_fn({'x':x_eval},y_eval,batch_size=4,num_epochs=1000,shuffle=False)"
      ],
      "execution_count": 0,
      "outputs": []
    },
    {
      "cell_type": "markdown",
      "metadata": {
        "id": "DakcvsWN-q1R",
        "colab_type": "text"
      },
      "source": [
        "### Train the Estimator"
      ]
    },
    {
      "cell_type": "code",
      "metadata": {
        "id": "aynqLXlV-q1S",
        "colab_type": "code",
        "colab": {
          "base_uri": "https://localhost:8080/",
          "height": 1000
        },
        "outputId": "c1cd1ba8-e1f4-4f75-99a1-3f30952df35b"
      },
      "source": [
        "estimator.train(input_fn=input_func,steps=1000)"
      ],
      "execution_count": 30,
      "outputs": [
        {
          "output_type": "stream",
          "text": [
            "WARNING:tensorflow:From /tensorflow-1.15.0/python3.6/tensorflow_core/python/training/training_util.py:236: Variable.initialized_value (from tensorflow.python.ops.variables) is deprecated and will be removed in a future version.\n",
            "Instructions for updating:\n",
            "Use Variable.read_value. Variables in 2.X are initialized automatically both in eager and graph (inside tf.defun) contexts.\n",
            "WARNING:tensorflow:From /tensorflow-1.15.0/python3.6/tensorflow_estimator/python/estimator/inputs/queues/feeding_queue_runner.py:62: QueueRunner.__init__ (from tensorflow.python.training.queue_runner_impl) is deprecated and will be removed in a future version.\n",
            "Instructions for updating:\n",
            "To construct input pipelines, use the `tf.data` module.\n",
            "WARNING:tensorflow:From /tensorflow-1.15.0/python3.6/tensorflow_estimator/python/estimator/inputs/queues/feeding_functions.py:500: add_queue_runner (from tensorflow.python.training.queue_runner_impl) is deprecated and will be removed in a future version.\n",
            "Instructions for updating:\n",
            "To construct input pipelines, use the `tf.data` module.\n",
            "INFO:tensorflow:Calling model_fn.\n",
            "WARNING:tensorflow:From /tensorflow-1.15.0/python3.6/tensorflow_core/python/feature_column/feature_column_v2.py:305: Layer.add_variable (from tensorflow.python.keras.engine.base_layer) is deprecated and will be removed in a future version.\n",
            "Instructions for updating:\n",
            "Please use `layer.add_weight` method instead.\n",
            "WARNING:tensorflow:From /tensorflow-1.15.0/python3.6/tensorflow_core/python/ops/resource_variable_ops.py:1630: calling BaseResourceVariable.__init__ (from tensorflow.python.ops.resource_variable_ops) with constraint is deprecated and will be removed in a future version.\n",
            "Instructions for updating:\n",
            "If using Keras pass *_constraint arguments to layers.\n",
            "WARNING:tensorflow:From /tensorflow-1.15.0/python3.6/tensorflow_estimator/python/estimator/canned/linear.py:308: to_float (from tensorflow.python.ops.math_ops) is deprecated and will be removed in a future version.\n",
            "Instructions for updating:\n",
            "Use `tf.cast` instead.\n",
            "INFO:tensorflow:Done calling model_fn.\n",
            "INFO:tensorflow:Create CheckpointSaverHook.\n",
            "WARNING:tensorflow:From /tensorflow-1.15.0/python3.6/tensorflow_core/python/ops/array_ops.py:1475: where (from tensorflow.python.ops.array_ops) is deprecated and will be removed in a future version.\n",
            "Instructions for updating:\n",
            "Use tf.where in 2.0, which has the same broadcast rule as np.where\n",
            "INFO:tensorflow:Graph was finalized.\n",
            "INFO:tensorflow:Running local_init_op.\n",
            "INFO:tensorflow:Done running local_init_op.\n",
            "WARNING:tensorflow:From /tensorflow-1.15.0/python3.6/tensorflow_core/python/training/monitored_session.py:882: start_queue_runners (from tensorflow.python.training.queue_runner_impl) is deprecated and will be removed in a future version.\n",
            "Instructions for updating:\n",
            "To construct input pipelines, use the `tf.data` module.\n",
            "INFO:tensorflow:Saving checkpoints for 0 into /tmp/tmppcjjwrgp/model.ckpt.\n",
            "INFO:tensorflow:loss = 218.77676, step = 1\n",
            "INFO:tensorflow:global_step/sec: 723.237\n",
            "INFO:tensorflow:loss = 1.6732899, step = 101 (0.146 sec)\n",
            "WARNING:tensorflow:It seems that global step (tf.train.get_global_step) has not been increased. Current value (could be stable): 110 vs previous value: 110. You could increase the global step by passing tf.train.get_global_step() to Optimizer.apply_gradients or Optimizer.minimize.\n",
            "WARNING:tensorflow:It seems that global step (tf.train.get_global_step) has not been increased. Current value (could be stable): 112 vs previous value: 112. You could increase the global step by passing tf.train.get_global_step() to Optimizer.apply_gradients or Optimizer.minimize.\n",
            "WARNING:tensorflow:It seems that global step (tf.train.get_global_step) has not been increased. Current value (could be stable): 140 vs previous value: 140. You could increase the global step by passing tf.train.get_global_step() to Optimizer.apply_gradients or Optimizer.minimize.\n",
            "WARNING:tensorflow:It seems that global step (tf.train.get_global_step) has not been increased. Current value (could be stable): 156 vs previous value: 156. You could increase the global step by passing tf.train.get_global_step() to Optimizer.apply_gradients or Optimizer.minimize.\n",
            "INFO:tensorflow:global_step/sec: 754.313\n",
            "INFO:tensorflow:loss = 5.0503354, step = 201 (0.126 sec)\n",
            "INFO:tensorflow:global_step/sec: 815.295\n",
            "INFO:tensorflow:loss = 15.057448, step = 301 (0.123 sec)\n",
            "WARNING:tensorflow:It seems that global step (tf.train.get_global_step) has not been increased. Current value (could be stable): 351 vs previous value: 351. You could increase the global step by passing tf.train.get_global_step() to Optimizer.apply_gradients or Optimizer.minimize.\n",
            "INFO:tensorflow:global_step/sec: 764.396\n",
            "INFO:tensorflow:loss = 6.610222, step = 401 (0.131 sec)\n",
            "INFO:tensorflow:global_step/sec: 587.313\n",
            "INFO:tensorflow:loss = 1.3968128, step = 501 (0.169 sec)\n",
            "INFO:tensorflow:global_step/sec: 872.779\n",
            "INFO:tensorflow:loss = 1.6978666, step = 601 (0.115 sec)\n",
            "INFO:tensorflow:global_step/sec: 865.899\n",
            "INFO:tensorflow:loss = 3.4572825, step = 701 (0.115 sec)\n",
            "INFO:tensorflow:global_step/sec: 942.237\n",
            "INFO:tensorflow:loss = 5.463333, step = 801 (0.106 sec)\n",
            "INFO:tensorflow:global_step/sec: 902.626\n",
            "INFO:tensorflow:loss = 2.3054662, step = 901 (0.111 sec)\n",
            "INFO:tensorflow:Saving checkpoints for 1000 into /tmp/tmppcjjwrgp/model.ckpt.\n",
            "INFO:tensorflow:Loss for final step: 3.1369522.\n"
          ],
          "name": "stdout"
        },
        {
          "output_type": "execute_result",
          "data": {
            "text/plain": [
              "<tensorflow_estimator.python.estimator.canned.linear.LinearRegressor at 0x7f374e3ca358>"
            ]
          },
          "metadata": {
            "tags": []
          },
          "execution_count": 30
        }
      ]
    },
    {
      "cell_type": "markdown",
      "metadata": {
        "id": "MdUTnUda-q1T",
        "colab_type": "text"
      },
      "source": [
        "### Evaluation"
      ]
    },
    {
      "cell_type": "code",
      "metadata": {
        "id": "wyiCMpCr-q1U",
        "colab_type": "code",
        "colab": {
          "base_uri": "https://localhost:8080/",
          "height": 353
        },
        "outputId": "a9ed90d9-7bc6-45ca-9795-4e8aa26a0546"
      },
      "source": [
        "train_metrics = estimator.evaluate(input_fn=train_input_func,steps=1000)"
      ],
      "execution_count": 31,
      "outputs": [
        {
          "output_type": "stream",
          "text": [
            "INFO:tensorflow:Calling model_fn.\n",
            "INFO:tensorflow:Done calling model_fn.\n",
            "INFO:tensorflow:Starting evaluation at 2020-03-17T19:47:55Z\n",
            "INFO:tensorflow:Graph was finalized.\n",
            "INFO:tensorflow:Restoring parameters from /tmp/tmppcjjwrgp/model.ckpt-1000\n",
            "INFO:tensorflow:Running local_init_op.\n",
            "INFO:tensorflow:Done running local_init_op.\n",
            "INFO:tensorflow:Evaluation [100/1000]\n",
            "INFO:tensorflow:Evaluation [200/1000]\n",
            "INFO:tensorflow:Evaluation [300/1000]\n",
            "INFO:tensorflow:Evaluation [400/1000]\n",
            "INFO:tensorflow:Evaluation [500/1000]\n",
            "INFO:tensorflow:Evaluation [600/1000]\n",
            "INFO:tensorflow:Evaluation [700/1000]\n",
            "INFO:tensorflow:Evaluation [800/1000]\n",
            "INFO:tensorflow:Evaluation [900/1000]\n",
            "INFO:tensorflow:Evaluation [1000/1000]\n",
            "INFO:tensorflow:Finished evaluation at 2020-03-17-19:47:56\n",
            "INFO:tensorflow:Saving dict for global step 1000: average_loss = 1.156525, global_step = 1000, label/mean = 7.5086675, loss = 4.6261, prediction/mean = 7.2734914\n",
            "INFO:tensorflow:Saving 'checkpoint_path' summary for global step 1000: /tmp/tmppcjjwrgp/model.ckpt-1000\n"
          ],
          "name": "stdout"
        }
      ]
    },
    {
      "cell_type": "code",
      "metadata": {
        "id": "MlQn7w0W-q1W",
        "colab_type": "code",
        "colab": {
          "base_uri": "https://localhost:8080/",
          "height": 353
        },
        "outputId": "e672bb9e-6412-4741-b475-936f6c509e19"
      },
      "source": [
        "eval_metrics = estimator.evaluate(input_fn=eval_input_func,steps=1000)"
      ],
      "execution_count": 32,
      "outputs": [
        {
          "output_type": "stream",
          "text": [
            "INFO:tensorflow:Calling model_fn.\n",
            "INFO:tensorflow:Done calling model_fn.\n",
            "INFO:tensorflow:Starting evaluation at 2020-03-17T19:47:59Z\n",
            "INFO:tensorflow:Graph was finalized.\n",
            "INFO:tensorflow:Restoring parameters from /tmp/tmppcjjwrgp/model.ckpt-1000\n",
            "INFO:tensorflow:Running local_init_op.\n",
            "INFO:tensorflow:Done running local_init_op.\n",
            "INFO:tensorflow:Evaluation [100/1000]\n",
            "INFO:tensorflow:Evaluation [200/1000]\n",
            "INFO:tensorflow:Evaluation [300/1000]\n",
            "INFO:tensorflow:Evaluation [400/1000]\n",
            "INFO:tensorflow:Evaluation [500/1000]\n",
            "INFO:tensorflow:Evaluation [600/1000]\n",
            "INFO:tensorflow:Evaluation [700/1000]\n",
            "INFO:tensorflow:Evaluation [800/1000]\n",
            "INFO:tensorflow:Evaluation [900/1000]\n",
            "INFO:tensorflow:Evaluation [1000/1000]\n",
            "INFO:tensorflow:Finished evaluation at 2020-03-17-19:48:00\n",
            "INFO:tensorflow:Saving dict for global step 1000: average_loss = 1.0854152, global_step = 1000, label/mean = 7.4558735, loss = 4.341661, prediction/mean = 7.2342205\n",
            "INFO:tensorflow:Saving 'checkpoint_path' summary for global step 1000: /tmp/tmppcjjwrgp/model.ckpt-1000\n"
          ],
          "name": "stdout"
        }
      ]
    },
    {
      "cell_type": "code",
      "metadata": {
        "id": "lighk1Lu-q1Y",
        "colab_type": "code",
        "colab": {
          "base_uri": "https://localhost:8080/",
          "height": 50
        },
        "outputId": "3176e226-06d0-4710-a2fd-fe7b8492b859"
      },
      "source": [
        "print(\"train metrics: {}\".format(train_metrics))\n",
        "print(\"eval metrics: {}\".format(eval_metrics))"
      ],
      "execution_count": 33,
      "outputs": [
        {
          "output_type": "stream",
          "text": [
            "train metrics: {'average_loss': 1.156525, 'label/mean': 7.5086675, 'loss': 4.6261, 'prediction/mean': 7.2734914, 'global_step': 1000}\n",
            "eval metrics: {'average_loss': 1.0854152, 'label/mean': 7.4558735, 'loss': 4.341661, 'prediction/mean': 7.2342205, 'global_step': 1000}\n"
          ],
          "name": "stdout"
        }
      ]
    },
    {
      "cell_type": "markdown",
      "metadata": {
        "id": "CpBEBay6-q1a",
        "colab_type": "text"
      },
      "source": [
        "### Predictions"
      ]
    },
    {
      "cell_type": "code",
      "metadata": {
        "id": "rOtV9k_i-q1b",
        "colab_type": "code",
        "colab": {}
      },
      "source": [
        "input_fn_predict = tf.estimator.inputs.numpy_input_fn({'x':np.linspace(0,10,10)},shuffle=False)"
      ],
      "execution_count": 0,
      "outputs": []
    },
    {
      "cell_type": "code",
      "metadata": {
        "id": "HGaOje4S-q1d",
        "colab_type": "code",
        "colab": {
          "base_uri": "https://localhost:8080/",
          "height": 286
        },
        "outputId": "4b46ccaa-d546-41ef-f99a-1ffff551e3b8"
      },
      "source": [
        "list(estimator.predict(input_fn=input_fn_predict))"
      ],
      "execution_count": 35,
      "outputs": [
        {
          "output_type": "stream",
          "text": [
            "INFO:tensorflow:Calling model_fn.\n",
            "INFO:tensorflow:Done calling model_fn.\n",
            "INFO:tensorflow:Graph was finalized.\n",
            "INFO:tensorflow:Restoring parameters from /tmp/tmppcjjwrgp/model.ckpt-1000\n",
            "INFO:tensorflow:Running local_init_op.\n",
            "INFO:tensorflow:Done running local_init_op.\n"
          ],
          "name": "stdout"
        },
        {
          "output_type": "execute_result",
          "data": {
            "text/plain": [
              "[{'predictions': array([4.2485538], dtype=float32)},\n",
              " {'predictions': array([4.916763], dtype=float32)},\n",
              " {'predictions': array([5.5849724], dtype=float32)},\n",
              " {'predictions': array([6.2531815], dtype=float32)},\n",
              " {'predictions': array([6.9213905], dtype=float32)},\n",
              " {'predictions': array([7.5895996], dtype=float32)},\n",
              " {'predictions': array([8.257809], dtype=float32)},\n",
              " {'predictions': array([8.926018], dtype=float32)},\n",
              " {'predictions': array([9.594228], dtype=float32)},\n",
              " {'predictions': array([10.262436], dtype=float32)}]"
            ]
          },
          "metadata": {
            "tags": []
          },
          "execution_count": 35
        }
      ]
    },
    {
      "cell_type": "code",
      "metadata": {
        "id": "sdCFL2w2-q1g",
        "colab_type": "code",
        "colab": {
          "base_uri": "https://localhost:8080/",
          "height": 118
        },
        "outputId": "c85a0db1-9b77-4728-f571-5d03a0f8e61c"
      },
      "source": [
        "predictions = []# np.array([])\n",
        "for x in estimator.predict(input_fn=input_fn_predict):\n",
        "    predictions.append(x['predictions'])"
      ],
      "execution_count": 36,
      "outputs": [
        {
          "output_type": "stream",
          "text": [
            "INFO:tensorflow:Calling model_fn.\n",
            "INFO:tensorflow:Done calling model_fn.\n",
            "INFO:tensorflow:Graph was finalized.\n",
            "INFO:tensorflow:Restoring parameters from /tmp/tmppcjjwrgp/model.ckpt-1000\n",
            "INFO:tensorflow:Running local_init_op.\n",
            "INFO:tensorflow:Done running local_init_op.\n"
          ],
          "name": "stdout"
        }
      ]
    },
    {
      "cell_type": "code",
      "metadata": {
        "id": "tWxiOgPO-q1i",
        "colab_type": "code",
        "colab": {
          "base_uri": "https://localhost:8080/",
          "height": 185
        },
        "outputId": "61a13eed-a5c7-4eb7-9065-d09b11807b69"
      },
      "source": [
        "predictions"
      ],
      "execution_count": 37,
      "outputs": [
        {
          "output_type": "execute_result",
          "data": {
            "text/plain": [
              "[array([4.2485538], dtype=float32),\n",
              " array([4.916763], dtype=float32),\n",
              " array([5.5849724], dtype=float32),\n",
              " array([6.2531815], dtype=float32),\n",
              " array([6.9213905], dtype=float32),\n",
              " array([7.5895996], dtype=float32),\n",
              " array([8.257809], dtype=float32),\n",
              " array([8.926018], dtype=float32),\n",
              " array([9.594228], dtype=float32),\n",
              " array([10.262436], dtype=float32)]"
            ]
          },
          "metadata": {
            "tags": []
          },
          "execution_count": 37
        }
      ]
    },
    {
      "cell_type": "code",
      "metadata": {
        "id": "8nSUdcA0-q1k",
        "colab_type": "code",
        "colab": {
          "base_uri": "https://localhost:8080/",
          "height": 296
        },
        "outputId": "ef80199a-0907-42aa-f5c2-d2475a22250d"
      },
      "source": [
        "my_data.sample(n=250).plot(kind='scatter',x='X Data',y='Y')\n",
        "plt.plot(np.linspace(0,10,10),predictions,'r')"
      ],
      "execution_count": 38,
      "outputs": [
        {
          "output_type": "execute_result",
          "data": {
            "text/plain": [
              "[<matplotlib.lines.Line2D at 0x7f3747de5be0>]"
            ]
          },
          "metadata": {
            "tags": []
          },
          "execution_count": 38
        },
        {
          "output_type": "display_data",
          "data": {
            "image/png": "[encoded data removed]",
            "text/plain": [
              "<Figure size 432x288 with 1 Axes>"
            ]
          },
          "metadata": {
            "tags": []
          }
        }
      ]
    }
  ]
}