{
  "nbformat": 4,
  "nbformat_minor": 0,
  "metadata": {
    "kernelspec": {
      "display_name": "Python 3",
      "language": "python",
      "name": "python3"
    },
    "language_info": {
      "codemirror_mode": {
        "name": "ipython",
        "version": 3
      },
      "file_extension": ".py",
      "mimetype": "text/x-python",
      "name": "python",
      "nbconvert_exporter": "python",
      "pygments_lexer": "ipython3",
      "version": "3.5.4"
    },
    "colab": {
      "name": "TF-Neural-Network.ipynb",
      "provenance": []
    }
  },
  "cells": [
    {
      "cell_type": "markdown",
      "metadata": {
        "id": "eUYbIJVg9_HO",
        "colab_type": "text"
      },
      "source": [
        "# First Neurons"
      ]
    },
    {
      "cell_type": "code",
      "metadata": {
        "id": "W60f78dz9_HQ",
        "colab_type": "code",
        "colab": {
          "base_uri": "https://localhost:8080/",
          "height": 62
        },
        "outputId": "ff008221-dc50-473a-86bc-584496a1d3f6"
      },
      "source": [
        "import numpy as np\n",
        "import tensorflow as tf"
      ],
      "execution_count": 1,
      "outputs": [
        {
          "output_type": "display_data",
          "data": {
            "text/html": [
              "<p style=\"color: red;\">\n",
              "The default version of TensorFlow in Colab will soon switch to TensorFlow 2.x.<br>\n",
              "We recommend you <a href=\"https://www.tensorflow.org/guide/migrate\" target=\"_blank\">upgrade</a> now \n",
              "or ensure your notebook will continue to use TensorFlow 1.x via the <code>%tensorflow_version 1.x</code> magic:\n",
              "<a href=\"https://colab.research.google.com/notebooks/tensorflow_version.ipynb\" target=\"_blank\">more info</a>.</p>\n"
            ],
            "text/plain": [
              "<IPython.core.display.HTML object>"
            ]
          },
          "metadata": {
            "tags": []
          }
        }
      ]
    },
    {
      "cell_type": "markdown",
      "metadata": {
        "id": "QNjgRbYg9_HT",
        "colab_type": "text"
      },
      "source": [
        "**Set Random Seeds for code reproducibility**"
      ]
    },
    {
      "cell_type": "code",
      "metadata": {
        "id": "GX2MwJ009_HU",
        "colab_type": "code",
        "colab": {}
      },
      "source": [
        "np.random.seed(101)\n",
        "tf.set_random_seed(101)"
      ],
      "execution_count": 0,
      "outputs": []
    },
    {
      "cell_type": "markdown",
      "metadata": {
        "id": "gIm1YcM09_HW",
        "colab_type": "text"
      },
      "source": [
        "** Data Setup **"
      ]
    },
    {
      "cell_type": "markdown",
      "metadata": {
        "id": "xAI_wT2D9_HX",
        "colab_type": "text"
      },
      "source": [
        "Setting Up some Random Data for Demonstration Purposes"
      ]
    },
    {
      "cell_type": "code",
      "metadata": {
        "id": "Oue97SKK9_HY",
        "colab_type": "code",
        "colab": {
          "base_uri": "https://localhost:8080/",
          "height": 101
        },
        "outputId": "5399a559-21a9-4648-eac6-9bb1c8af8a0d"
      },
      "source": [
        "rand_a = np.random.uniform(0,100,(5,5))\n",
        "rand_a"
      ],
      "execution_count": 3,
      "outputs": [
        {
          "output_type": "execute_result",
          "data": {
            "text/plain": [
              "array([[51.63986277, 57.06675869,  2.84742265, 17.15216562, 68.52769817],\n",
              "       [83.38968626, 30.69662197, 89.36130797, 72.15438618, 18.99389542],\n",
              "       [55.42275911, 35.2131954 , 18.18924027, 78.56017619, 96.54832224],\n",
              "       [23.23536618,  8.35614337, 60.35484223, 72.89927573, 27.62388285],\n",
              "       [68.53063288, 51.78674742,  4.84845374, 13.78692376, 18.69674261]])"
            ]
          },
          "metadata": {
            "tags": []
          },
          "execution_count": 3
        }
      ]
    },
    {
      "cell_type": "code",
      "metadata": {
        "id": "i1SWPmOj9_Hb",
        "colab_type": "code",
        "colab": {
          "base_uri": "https://localhost:8080/",
          "height": 101
        },
        "outputId": "0a121aa5-55e8-4ba4-9bc6-b73aee80232a"
      },
      "source": [
        "rand_b = np.random.uniform(0,100,(5,1))\n",
        "rand_b"
      ],
      "execution_count": 4,
      "outputs": [
        {
          "output_type": "execute_result",
          "data": {
            "text/plain": [
              "array([[99.43179012],\n",
              "       [52.06653967],\n",
              "       [57.87895355],\n",
              "       [73.48190583],\n",
              "       [54.19617722]])"
            ]
          },
          "metadata": {
            "tags": []
          },
          "execution_count": 4
        }
      ]
    },
    {
      "cell_type": "code",
      "metadata": {
        "id": "6Dakml8a9_He",
        "colab_type": "code",
        "colab": {}
      },
      "source": [
        "# CONFIRM SAME  RANDOM NUMBERS (EXECUTE SEED IN SAME CELL!) Watch video for explanation\n",
        "np.random.seed(101)\n",
        "rand_a = np.random.uniform(0,100,(5,5))\n",
        "rand_b = np.random.uniform(0,100,(5,1))"
      ],
      "execution_count": 0,
      "outputs": []
    },
    {
      "cell_type": "markdown",
      "metadata": {
        "id": "W_GUDJfL9_Hg",
        "colab_type": "text"
      },
      "source": [
        "### Placeholders"
      ]
    },
    {
      "cell_type": "code",
      "metadata": {
        "id": "aRWvpaw49_Hh",
        "colab_type": "code",
        "colab": {}
      },
      "source": [
        "a = tf.placeholder(tf.float32)\n",
        "b = tf.placeholder(tf.float32)"
      ],
      "execution_count": 0,
      "outputs": []
    },
    {
      "cell_type": "markdown",
      "metadata": {
        "id": "kJm_qh9n9_Hj",
        "colab_type": "text"
      },
      "source": [
        "### Operations"
      ]
    },
    {
      "cell_type": "code",
      "metadata": {
        "id": "preJRkeh9_Hk",
        "colab_type": "code",
        "colab": {}
      },
      "source": [
        "add_op = a+b # tf.add(a,b)\n",
        "mult_op = a*b #tf.multiply(a,b)"
      ],
      "execution_count": 0,
      "outputs": []
    },
    {
      "cell_type": "markdown",
      "metadata": {
        "id": "QpxqQySS9_Hm",
        "colab_type": "text"
      },
      "source": [
        "### Running Sessions  to create Graphs with Feed Dictionaries"
      ]
    },
    {
      "cell_type": "code",
      "metadata": {
        "id": "eCi7mlG19_Hn",
        "colab_type": "code",
        "colab": {
          "base_uri": "https://localhost:8080/",
          "height": 218
        },
        "outputId": "89a9c9dd-350e-4619-a4ac-220050f1960a"
      },
      "source": [
        "with tf.Session() as sess:\n",
        "    add_result = sess.run(add_op,feed_dict={a:rand_a,b:rand_b})\n",
        "    print(add_result)\n",
        "    \n",
        "    print('\\n')\n",
        "    \n",
        "    mult_result = sess.run(mult_op,feed_dict={a:rand_a,b:rand_b})\n",
        "    print(mult_result)"
      ],
      "execution_count": 8,
      "outputs": [
        {
          "output_type": "stream",
          "text": [
            "[[151.07166  156.49855  102.27921  116.58396  167.95949 ]\n",
            " [135.45622   82.76316  141.42784  124.22093   71.06043 ]\n",
            " [113.30171   93.09215   76.06819  136.43912  154.42728 ]\n",
            " [ 96.71727   81.83804  133.83675  146.38118  101.10579 ]\n",
            " [122.72681  105.982925  59.044632  67.9831    72.89292 ]]\n",
            "\n",
            "\n",
            "[[5134.644   5674.25     283.12433 1705.4707  6813.8315 ]\n",
            " [4341.8125  1598.267   4652.734   3756.8293   988.94635]\n",
            " [3207.8113  2038.1029  1052.7742  4546.9805  5588.1157 ]\n",
            " [1707.379    614.02527 4434.989   5356.7773  2029.8555 ]\n",
            " [3714.0984  2806.6438   262.76764  747.19855 1013.292  ]]\n"
          ],
          "name": "stdout"
        }
      ]
    },
    {
      "cell_type": "markdown",
      "metadata": {
        "id": "PW2SuC9y9_Hq",
        "colab_type": "text"
      },
      "source": [
        "________________________\n",
        "\n",
        "________________________"
      ]
    },
    {
      "cell_type": "markdown",
      "metadata": {
        "id": "nQG3cJwA9_Hq",
        "colab_type": "text"
      },
      "source": [
        "## Example Neural Network"
      ]
    },
    {
      "cell_type": "code",
      "metadata": {
        "id": "dSuWkN1e9_Hr",
        "colab_type": "code",
        "colab": {}
      },
      "source": [
        "n_features = 10\n",
        "n_dense_neurons = 3"
      ],
      "execution_count": 0,
      "outputs": []
    },
    {
      "cell_type": "code",
      "metadata": {
        "id": "xluy3mXW9_Ht",
        "colab_type": "code",
        "colab": {}
      },
      "source": [
        "# Placeholder for x\n",
        "x = tf.placeholder(tf.float32,(None,n_features))"
      ],
      "execution_count": 0,
      "outputs": []
    },
    {
      "cell_type": "code",
      "metadata": {
        "id": "F9vfXXTT9_Hv",
        "colab_type": "code",
        "colab": {}
      },
      "source": [
        "# Variables for w and b\n",
        "b = tf.Variable(tf.zeros([n_dense_neurons]))\n",
        "\n",
        "W = tf.Variable(tf.random_normal([n_features,n_dense_neurons]))"
      ],
      "execution_count": 0,
      "outputs": []
    },
    {
      "cell_type": "markdown",
      "metadata": {
        "id": "MReAHok09_Hz",
        "colab_type": "text"
      },
      "source": [
        "** Operation Activation Function **"
      ]
    },
    {
      "cell_type": "code",
      "metadata": {
        "id": "nLK0a-W_9_Hz",
        "colab_type": "code",
        "colab": {}
      },
      "source": [
        "xW = tf.matmul(x,W)"
      ],
      "execution_count": 0,
      "outputs": []
    },
    {
      "cell_type": "code",
      "metadata": {
        "id": "XuMPtR-39_H2",
        "colab_type": "code",
        "colab": {}
      },
      "source": [
        "z = tf.add(xW,b)"
      ],
      "execution_count": 0,
      "outputs": []
    },
    {
      "cell_type": "code",
      "metadata": {
        "id": "DyFT7pGq9_H5",
        "colab_type": "code",
        "colab": {}
      },
      "source": [
        "# tf.nn.relu() or tf.tanh()\n",
        "a = tf.sigmoid(z)"
      ],
      "execution_count": 0,
      "outputs": []
    },
    {
      "cell_type": "markdown",
      "metadata": {
        "id": "tlQ_Vo8l9_H7",
        "colab_type": "text"
      },
      "source": [
        "**Variable Intializer!**"
      ]
    },
    {
      "cell_type": "code",
      "metadata": {
        "id": "RAzh8H569_H7",
        "colab_type": "code",
        "colab": {}
      },
      "source": [
        "init = tf.global_variables_initializer()"
      ],
      "execution_count": 0,
      "outputs": []
    },
    {
      "cell_type": "code",
      "metadata": {
        "id": "gO-yqAXY9_H9",
        "colab_type": "code",
        "colab": {}
      },
      "source": [
        "with tf.Session() as sess:\n",
        "    sess.run(init)\n",
        "    \n",
        "    layer_out = sess.run(a,feed_dict={x : np.random.random([1,n_features])})"
      ],
      "execution_count": 0,
      "outputs": []
    },
    {
      "cell_type": "code",
      "metadata": {
        "id": "pLhwLFR89_H_",
        "colab_type": "code",
        "colab": {
          "base_uri": "https://localhost:8080/",
          "height": 34
        },
        "outputId": "0ed2235a-3f21-49c6-cec6-e16cfd3f0f19"
      },
      "source": [
        "print(layer_out)"
      ],
      "execution_count": 17,
      "outputs": [
        {
          "output_type": "stream",
          "text": [
            "[[0.53415525 0.44564104 0.5842615 ]]\n"
          ],
          "name": "stdout"
        }
      ]
    },
    {
      "cell_type": "markdown",
      "metadata": {
        "id": "UNydlLZU9_IB",
        "colab_type": "text"
      },
      "source": [
        "We still need to finish off this process with optimization! Let's learn how to do this next.\n",
        "\n",
        "_____"
      ]
    },
    {
      "cell_type": "markdown",
      "metadata": {
        "id": "zXrCcMls9_IC",
        "colab_type": "text"
      },
      "source": [
        "## Full Network Example\n",
        "\n",
        "Let's work on a regression example, we are trying to solve a very simple equation:\n",
        "\n",
        "y = mx + b\n",
        "\n",
        "y will be the y_labels and x is the x_data. We are trying to figure out the slope and the intercept for the line that best fits our data!"
      ]
    },
    {
      "cell_type": "markdown",
      "metadata": {
        "id": "5HGYijNA9_ID",
        "colab_type": "text"
      },
      "source": [
        "### Artifical Data (Some Made Up Regression Data)"
      ]
    },
    {
      "cell_type": "code",
      "metadata": {
        "id": "DnHRy0OP9_ID",
        "colab_type": "code",
        "colab": {}
      },
      "source": [
        "x_data = np.linspace(0,10,10) + np.random.uniform(-1.5,1.5,10)"
      ],
      "execution_count": 0,
      "outputs": []
    },
    {
      "cell_type": "code",
      "metadata": {
        "id": "VDV0buZ99_IG",
        "colab_type": "code",
        "colab": {
          "base_uri": "https://localhost:8080/",
          "height": 50
        },
        "outputId": "e5331625-754f-44d7-be4d-b71aaac0495a"
      },
      "source": [
        "x_data"
      ],
      "execution_count": 19,
      "outputs": [
        {
          "output_type": "execute_result",
          "data": {
            "text/plain": [
              "array([-1.20856056, -0.08034641,  2.82674411,  4.50477294,  3.42312535,\n",
              "        4.88227319,  7.18414126,  6.77068715,  9.4930023 ,  9.96290567])"
            ]
          },
          "metadata": {
            "tags": []
          },
          "execution_count": 19
        }
      ]
    },
    {
      "cell_type": "code",
      "metadata": {
        "id": "Vl1H6oDD9_II",
        "colab_type": "code",
        "colab": {}
      },
      "source": [
        "y_label = np.linspace(0,10,10) + np.random.uniform(-1.5,1.5,10)"
      ],
      "execution_count": 0,
      "outputs": []
    },
    {
      "cell_type": "code",
      "metadata": {
        "id": "jh7EBV7b9_IK",
        "colab_type": "code",
        "colab": {
          "base_uri": "https://localhost:8080/",
          "height": 282
        },
        "outputId": "bd45a96a-e78c-42f0-959e-0553fd9e2b18"
      },
      "source": [
        "import matplotlib.pyplot as plt\n",
        "plt.plot(x_data,y_label,'*')"
      ],
      "execution_count": 22,
      "outputs": [
        {
          "output_type": "execute_result",
          "data": {
            "text/plain": [
              "[<matplotlib.lines.Line2D at 0x7f88de551cf8>]"
            ]
          },
          "metadata": {
            "tags": []
          },
          "execution_count": 22
        },
        {
          "output_type": "display_data",
          "data": {
            "image/png": "[encoded data removed]",
            "text/plain": [
              "<Figure size 432x288 with 1 Axes>"
            ]
          },
          "metadata": {
            "tags": []
          }
        }
      ]
    },
    {
      "cell_type": "markdown",
      "metadata": {
        "id": "L_rvivQR9_IM",
        "colab_type": "text"
      },
      "source": [
        "** Variables **"
      ]
    },
    {
      "cell_type": "code",
      "metadata": {
        "id": "GYWYpkI19_IN",
        "colab_type": "code",
        "colab": {
          "base_uri": "https://localhost:8080/",
          "height": 34
        },
        "outputId": "ac50f013-6e64-404c-b662-230b96495cd7"
      },
      "source": [
        "np.random.rand(2)"
      ],
      "execution_count": 23,
      "outputs": [
        {
          "output_type": "execute_result",
          "data": {
            "text/plain": [
              "array([0.44236813, 0.87758732])"
            ]
          },
          "metadata": {
            "tags": []
          },
          "execution_count": 23
        }
      ]
    },
    {
      "cell_type": "code",
      "metadata": {
        "id": "SMGR99F09_IP",
        "colab_type": "code",
        "colab": {}
      },
      "source": [
        "m = tf.Variable(0.39)\n",
        "b = tf.Variable(0.2)"
      ],
      "execution_count": 0,
      "outputs": []
    },
    {
      "cell_type": "markdown",
      "metadata": {
        "id": "aPeIlxWd9_IR",
        "colab_type": "text"
      },
      "source": [
        "### Cost Function"
      ]
    },
    {
      "cell_type": "code",
      "metadata": {
        "id": "nigKBV829_IS",
        "colab_type": "code",
        "colab": {}
      },
      "source": [
        "error = 0\n",
        "\n",
        "for x,y in zip(x_data,y_label):\n",
        "    \n",
        "    y_hat = m*x + b  #Our predicted value\n",
        "    \n",
        "    error += (y-y_hat)**2 # The cost we want to minimize (we'll need to use an optimization function for the minimization!)\n"
      ],
      "execution_count": 0,
      "outputs": []
    },
    {
      "cell_type": "markdown",
      "metadata": {
        "id": "ipgajRVp9_IU",
        "colab_type": "text"
      },
      "source": [
        "### Optimizer"
      ]
    },
    {
      "cell_type": "code",
      "metadata": {
        "id": "YIPXe8kM9_IV",
        "colab_type": "code",
        "colab": {
          "base_uri": "https://localhost:8080/",
          "height": 87
        },
        "outputId": "03509aee-a4bf-4480-884c-5c3592f170be"
      },
      "source": [
        "optimizer = tf.train.GradientDescentOptimizer(learning_rate=0.001)\n",
        "train = optimizer.minimize(error)"
      ],
      "execution_count": 26,
      "outputs": [
        {
          "output_type": "stream",
          "text": [
            "WARNING:tensorflow:From /tensorflow-1.15.0/python3.6/tensorflow_core/python/ops/math_grad.py:1375: where (from tensorflow.python.ops.array_ops) is deprecated and will be removed in a future version.\n",
            "Instructions for updating:\n",
            "Use tf.where in 2.0, which has the same broadcast rule as np.where\n"
          ],
          "name": "stdout"
        }
      ]
    },
    {
      "cell_type": "markdown",
      "metadata": {
        "id": "4wWBF01U9_IX",
        "colab_type": "text"
      },
      "source": [
        "### Initialize Variables"
      ]
    },
    {
      "cell_type": "code",
      "metadata": {
        "id": "f3lYKBeJ9_IY",
        "colab_type": "code",
        "colab": {}
      },
      "source": [
        "init = tf.global_variables_initializer()"
      ],
      "execution_count": 0,
      "outputs": []
    },
    {
      "cell_type": "markdown",
      "metadata": {
        "id": "QxAg-ukq9_Ia",
        "colab_type": "text"
      },
      "source": [
        "### Create Session and Run!"
      ]
    },
    {
      "cell_type": "code",
      "metadata": {
        "id": "P5wGP0oU9_Ib",
        "colab_type": "code",
        "colab": {}
      },
      "source": [
        "with tf.Session() as sess:\n",
        "    \n",
        "    sess.run(init)\n",
        "    \n",
        "    epochs = 100\n",
        "    \n",
        "    for i in range(epochs):\n",
        "        \n",
        "        sess.run(train)\n",
        "        \n",
        "\n",
        "    # Fetch Back Results\n",
        "    final_slope , final_intercept = sess.run([m,b])"
      ],
      "execution_count": 0,
      "outputs": []
    },
    {
      "cell_type": "code",
      "metadata": {
        "id": "rMNIdFxb9_Id",
        "colab_type": "code",
        "colab": {
          "base_uri": "https://localhost:8080/",
          "height": 34
        },
        "outputId": "e720ef8c-013f-41ad-f09b-e2bc5c81cacd"
      },
      "source": [
        "final_slope"
      ],
      "execution_count": 29,
      "outputs": [
        {
          "output_type": "execute_result",
          "data": {
            "text/plain": [
              "0.79804665"
            ]
          },
          "metadata": {
            "tags": []
          },
          "execution_count": 29
        }
      ]
    },
    {
      "cell_type": "code",
      "metadata": {
        "id": "G-42zojd9_Ih",
        "colab_type": "code",
        "colab": {
          "base_uri": "https://localhost:8080/",
          "height": 34
        },
        "outputId": "8629a96b-fbff-42d4-ede4-36e11f44236a"
      },
      "source": [
        "final_intercept"
      ],
      "execution_count": 30,
      "outputs": [
        {
          "output_type": "execute_result",
          "data": {
            "text/plain": [
              "0.5121295"
            ]
          },
          "metadata": {
            "tags": []
          },
          "execution_count": 30
        }
      ]
    },
    {
      "cell_type": "markdown",
      "metadata": {
        "id": "euJ6yiRn9_Ij",
        "colab_type": "text"
      },
      "source": [
        "### Evaluate Results"
      ]
    },
    {
      "cell_type": "code",
      "metadata": {
        "id": "BqEsZDYz9_Ij",
        "colab_type": "code",
        "colab": {
          "base_uri": "https://localhost:8080/",
          "height": 282
        },
        "outputId": "d9e4b2f7-6db6-42d4-8c52-1539d3e8f72e"
      },
      "source": [
        "x_test = np.linspace(-1,11,10)\n",
        "y_pred_plot = final_slope*x_test + final_intercept\n",
        "\n",
        "plt.plot(x_test,y_pred_plot,'r')\n",
        "\n",
        "plt.plot(x_data,y_label,'*')"
      ],
      "execution_count": 31,
      "outputs": [
        {
          "output_type": "execute_result",
          "data": {
            "text/plain": [
              "[<matplotlib.lines.Line2D at 0x7f88dcdf8eb8>]"
            ]
          },
          "metadata": {
            "tags": []
          },
          "execution_count": 31
        },
        {
          "output_type": "display_data",
          "data": {
            "image/png": "[encoded data removed]",
            "text/plain": [
              "<Figure size 432x288 with 1 Axes>"
            ]
          },
          "metadata": {
            "tags": []
          }
        }
      ]
    }
  ]
}