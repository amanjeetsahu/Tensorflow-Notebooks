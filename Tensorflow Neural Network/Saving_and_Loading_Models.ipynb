{
  "nbformat": 4,
  "nbformat_minor": 0,
  "metadata": {
    "kernelspec": {
      "display_name": "Python 3",
      "language": "python",
      "name": "python3"
    },
    "language_info": {
      "codemirror_mode": {
        "name": "ipython",
        "version": 3
      },
      "file_extension": ".py",
      "mimetype": "text/x-python",
      "name": "python",
      "nbconvert_exporter": "python",
      "pygments_lexer": "ipython3",
      "version": "3.5.4"
    },
    "colab": {
      "name": "Saving -and-Loading-Models.ipynb",
      "provenance": []
    }
  },
  "cells": [
    {
      "cell_type": "markdown",
      "metadata": {
        "id": "_Za_fXSMWbl_",
        "colab_type": "text"
      },
      "source": [
        "# Saving and Loading Models"
      ]
    },
    {
      "cell_type": "code",
      "metadata": {
        "id": "8U7iYzHEWbmH",
        "colab_type": "code",
        "colab": {
          "base_uri": "https://localhost:8080/",
          "height": 62
        },
        "outputId": "c1204670-415a-4957-8d67-b055fedd39fc"
      },
      "source": [
        "import numpy as np\n",
        "import tensorflow as tf\n",
        "import matplotlib.pyplot as plt\n",
        "%matplotlib inline"
      ],
      "execution_count": 1,
      "outputs": [
        {
          "output_type": "display_data",
          "data": {
            "text/html": [
              "<p style=\"color: red;\">\n",
              "The default version of TensorFlow in Colab will soon switch to TensorFlow 2.x.<br>\n",
              "We recommend you <a href=\"https://www.tensorflow.org/guide/migrate\" target=\"_blank\">upgrade</a> now \n",
              "or ensure your notebook will continue to use TensorFlow 1.x via the <code>%tensorflow_version 1.x</code> magic:\n",
              "<a href=\"https://colab.research.google.com/notebooks/tensorflow_version.ipynb\" target=\"_blank\">more info</a>.</p>\n"
            ],
            "text/plain": [
              "<IPython.core.display.HTML object>"
            ]
          },
          "metadata": {
            "tags": []
          }
        }
      ]
    },
    {
      "cell_type": "code",
      "metadata": {
        "id": "B_HNiP4_WbmT",
        "colab_type": "code",
        "colab": {}
      },
      "source": [
        "np.random.seed(101)\n",
        "tf.set_random_seed(101)"
      ],
      "execution_count": 0,
      "outputs": []
    },
    {
      "cell_type": "markdown",
      "metadata": {
        "id": "ln4gpHAhWbmd",
        "colab_type": "text"
      },
      "source": [
        "## Full Network Example\n",
        "\n",
        "Let's work on a regression example, we are trying to solve a very simple equation:\n",
        "\n",
        "y = mx + b\n",
        "\n",
        "y will be the y_labels and x is the x_data. We are trying to figure out the slope and the intercept for the line that best fits our data!"
      ]
    },
    {
      "cell_type": "markdown",
      "metadata": {
        "id": "ySUhz4BoWbmg",
        "colab_type": "text"
      },
      "source": [
        "### Artifical Data (Some Made Up Regression Data)"
      ]
    },
    {
      "cell_type": "code",
      "metadata": {
        "id": "YS8MPNWrWbmk",
        "colab_type": "code",
        "colab": {}
      },
      "source": [
        "x_data = np.linspace(0,10,10) + np.random.uniform(-1.5,1.5,10)"
      ],
      "execution_count": 0,
      "outputs": []
    },
    {
      "cell_type": "code",
      "metadata": {
        "id": "2-k3MtMbWbmw",
        "colab_type": "code",
        "colab": {
          "base_uri": "https://localhost:8080/",
          "height": 50
        },
        "outputId": "14d78bfc-825e-4cf3-d946-2181093abea2"
      },
      "source": [
        "x_data"
      ],
      "execution_count": 4,
      "outputs": [
        {
          "output_type": "execute_result",
          "data": {
            "text/plain": [
              "array([0.04919588, 1.32311387, 0.8076449 , 2.3478983 , 5.00027539,\n",
              "       6.55724614, 6.08756533, 8.95861702, 9.55352047, 9.06981686])"
            ]
          },
          "metadata": {
            "tags": []
          },
          "execution_count": 4
        }
      ]
    },
    {
      "cell_type": "code",
      "metadata": {
        "id": "Ir3LX8KXWbnC",
        "colab_type": "code",
        "colab": {}
      },
      "source": [
        "y_label = np.linspace(0,10,10) + np.random.uniform(-1.5,1.5,10)"
      ],
      "execution_count": 0,
      "outputs": []
    },
    {
      "cell_type": "code",
      "metadata": {
        "id": "QdKetRqPWbnM",
        "colab_type": "code",
        "colab": {
          "base_uri": "https://localhost:8080/",
          "height": 285
        },
        "outputId": "1fa50dd0-7819-4581-a2d8-ad820ddcefb7"
      },
      "source": [
        "plt.plot(x_data,y_label,'*')"
      ],
      "execution_count": 6,
      "outputs": [
        {
          "output_type": "execute_result",
          "data": {
            "text/plain": [
              "[<matplotlib.lines.Line2D at 0x7f118a3aac88>]"
            ]
          },
          "metadata": {
            "tags": []
          },
          "execution_count": 6
        },
        {
          "output_type": "display_data",
          "data": {
            "image/png": "[encoded data removed]",
            "text/plain": [
              "<Figure size 432x288 with 1 Axes>"
            ]
          },
          "metadata": {
            "tags": []
          }
        }
      ]
    },
    {
      "cell_type": "markdown",
      "metadata": {
        "id": "IEO9m5tyWbnY",
        "colab_type": "text"
      },
      "source": [
        "** Variables **"
      ]
    },
    {
      "cell_type": "code",
      "metadata": {
        "id": "C0oXXzMBWbnb",
        "colab_type": "code",
        "colab": {
          "base_uri": "https://localhost:8080/",
          "height": 34
        },
        "outputId": "0e6874e0-cb86-4834-bfd0-d7f7fd7a983d"
      },
      "source": [
        "np.random.rand(2)"
      ],
      "execution_count": 7,
      "outputs": [
        {
          "output_type": "execute_result",
          "data": {
            "text/plain": [
              "array([0.68530633, 0.51786747])"
            ]
          },
          "metadata": {
            "tags": []
          },
          "execution_count": 7
        }
      ]
    },
    {
      "cell_type": "code",
      "metadata": {
        "id": "r5fpvmBXWbnm",
        "colab_type": "code",
        "colab": {}
      },
      "source": [
        "m = tf.Variable(0.39)\n",
        "b = tf.Variable(0.2)"
      ],
      "execution_count": 0,
      "outputs": []
    },
    {
      "cell_type": "markdown",
      "metadata": {
        "id": "AdSEnBUZWbn0",
        "colab_type": "text"
      },
      "source": [
        "### Cost Function"
      ]
    },
    {
      "cell_type": "code",
      "metadata": {
        "id": "P703CxRTWbn3",
        "colab_type": "code",
        "colab": {}
      },
      "source": [
        "error = tf.reduce_mean(y_label - (m*x_data+b))"
      ],
      "execution_count": 0,
      "outputs": []
    },
    {
      "cell_type": "markdown",
      "metadata": {
        "id": "38WZvYiyWboC",
        "colab_type": "text"
      },
      "source": [
        "### Optimizer"
      ]
    },
    {
      "cell_type": "code",
      "metadata": {
        "id": "OwcPqahFWboF",
        "colab_type": "code",
        "colab": {}
      },
      "source": [
        "optimizer = tf.train.GradientDescentOptimizer(learning_rate=0.001)\n",
        "train = optimizer.minimize(error)"
      ],
      "execution_count": 0,
      "outputs": []
    },
    {
      "cell_type": "markdown",
      "metadata": {
        "id": "0TU_KlY5WboR",
        "colab_type": "text"
      },
      "source": [
        "### Initialize Variables"
      ]
    },
    {
      "cell_type": "code",
      "metadata": {
        "id": "WyYocTytWboV",
        "colab_type": "code",
        "colab": {}
      },
      "source": [
        "init = tf.global_variables_initializer()"
      ],
      "execution_count": 0,
      "outputs": []
    },
    {
      "cell_type": "markdown",
      "metadata": {
        "id": "0seSwy0HWboi",
        "colab_type": "text"
      },
      "source": [
        "__________\n",
        "_____________\n",
        "________"
      ]
    },
    {
      "cell_type": "markdown",
      "metadata": {
        "id": "9_CQH0TpWbol",
        "colab_type": "text"
      },
      "source": [
        "# Saving The Model"
      ]
    },
    {
      "cell_type": "code",
      "metadata": {
        "id": "gYSUFRNKWbop",
        "colab_type": "code",
        "colab": {}
      },
      "source": [
        "saver = tf.train.Saver()"
      ],
      "execution_count": 0,
      "outputs": []
    },
    {
      "cell_type": "markdown",
      "metadata": {
        "id": "oqnJRiqGWbo2",
        "colab_type": "text"
      },
      "source": [
        "### Create Session and Run!"
      ]
    },
    {
      "cell_type": "code",
      "metadata": {
        "id": "YfQsQGoiWbo5",
        "colab_type": "code",
        "colab": {}
      },
      "source": [
        "with tf.Session() as sess:\n",
        "    \n",
        "    sess.run(init)\n",
        "    \n",
        "    epochs = 100\n",
        "    \n",
        "    for i in range(epochs):\n",
        "        \n",
        "        sess.run(train)\n",
        "\n",
        "    # Fetch Back Results\n",
        "    final_slope , final_intercept = sess.run([m,b])\n",
        "    \n",
        "    # ONCE YOU ARE DONE\n",
        "    # GO AHEAD AND SAVE IT!\n",
        "    # Make sure to provide a directory for it to make or go to. May get errors otherwise\n",
        "    #saver.save(sess,'models/my_first_model.ckpt')\n",
        "    saver.save(sess,'new_models/my_second_model.ckpt')"
      ],
      "execution_count": 0,
      "outputs": []
    },
    {
      "cell_type": "markdown",
      "metadata": {
        "id": "gzH_BJAaWbpF",
        "colab_type": "text"
      },
      "source": [
        "### Evaluate Results"
      ]
    },
    {
      "cell_type": "code",
      "metadata": {
        "id": "2oXo-L0KWbpH",
        "colab_type": "code",
        "colab": {
          "base_uri": "https://localhost:8080/",
          "height": 282
        },
        "outputId": "09b9fc25-55c8-40c5-cbbf-caa897ea41c1"
      },
      "source": [
        "x_test = np.linspace(-1,11,10)\n",
        "y_pred_plot = final_slope*x_test + final_intercept\n",
        "\n",
        "plt.plot(x_test,y_pred_plot,'r')\n",
        "\n",
        "plt.plot(x_data,y_label,'*')"
      ],
      "execution_count": 14,
      "outputs": [
        {
          "output_type": "execute_result",
          "data": {
            "text/plain": [
              "[<matplotlib.lines.Line2D at 0x7f1189ec54e0>]"
            ]
          },
          "metadata": {
            "tags": []
          },
          "execution_count": 14
        },
        {
          "output_type": "display_data",
          "data": {
            "image/png": "[encoded data removed]",
            "text/plain": [
              "<Figure size 432x288 with 1 Axes>"
            ]
          },
          "metadata": {
            "tags": []
          }
        }
      ]
    },
    {
      "cell_type": "markdown",
      "metadata": {
        "id": "Pbyx0UjhWbpR",
        "colab_type": "text"
      },
      "source": [
        "# Loading a Model"
      ]
    },
    {
      "cell_type": "code",
      "metadata": {
        "id": "fB14ObRgWbpU",
        "colab_type": "code",
        "colab": {
          "base_uri": "https://localhost:8080/",
          "height": 34
        },
        "outputId": "bfe7e983-91ab-401b-dfcb-1068bfaba638"
      },
      "source": [
        "with tf.Session() as sess:\n",
        "    \n",
        "    # Restore the model\n",
        "    saver.restore(sess,'new_models/my_second_model.ckpt')\n",
        "    \n",
        "\n",
        "    # Fetch Back Results\n",
        "    restored_slope , restored_intercept = sess.run([m,b])"
      ],
      "execution_count": 15,
      "outputs": [
        {
          "output_type": "stream",
          "text": [
            "INFO:tensorflow:Restoring parameters from new_models/my_second_model.ckpt\n"
          ],
          "name": "stdout"
        }
      ]
    },
    {
      "cell_type": "code",
      "metadata": {
        "id": "32sVe2rdWbpe",
        "colab_type": "code",
        "colab": {
          "base_uri": "https://localhost:8080/",
          "height": 282
        },
        "outputId": "5238cb7a-cef2-4df6-e9f6-22478b97c513"
      },
      "source": [
        "x_test = np.linspace(-1,11,10)\n",
        "y_pred_plot = restored_slope*x_test + restored_intercept\n",
        "\n",
        "plt.plot(x_test,y_pred_plot,'r')\n",
        "\n",
        "plt.plot(x_data,y_label,'*')"
      ],
      "execution_count": 16,
      "outputs": [
        {
          "output_type": "execute_result",
          "data": {
            "text/plain": [
              "[<matplotlib.lines.Line2D at 0x7f1183c233c8>]"
            ]
          },
          "metadata": {
            "tags": []
          },
          "execution_count": 16
        },
        {
          "output_type": "display_data",
          "data": {
            "image/png": "[encoded data removed]",
            "text/plain": [
              "<Figure size 432x288 with 1 Axes>"
            ]
          },
          "metadata": {
            "tags": []
          }
        }
      ]
    }
  ]
}