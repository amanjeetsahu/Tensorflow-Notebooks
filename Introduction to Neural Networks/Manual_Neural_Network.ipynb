{
  "nbformat": 4,
  "nbformat_minor": 0,
  "metadata": {
    "kernelspec": {
      "name": "python3",
      "display_name": "Python 3"
    },
    "language_info": {
      "codemirror_mode": {
        "name": "ipython",
        "version": 3
      },
      "file_extension": ".py",
      "mimetype": "text/x-python",
      "name": "python",
      "nbconvert_exporter": "python",
      "pygments_lexer": "ipython3",
      "version": "3.6.1"
    },
    "colab": {
      "name": "Manual Neural Network.ipynb",
      "provenance": []
    },
    "accelerator": "GPU"
  },
  "cells": [
    {
      "cell_type": "markdown",
      "metadata": {
        "id": "LazNCorWtnk4",
        "colab_type": "text"
      },
      "source": [
        "# Manual Neural Network\n",
        "\n",
        "In this notebook I have manually build out a neural network that mimics the TensorFlow API. This will greatly help your understanding when working with the real TensorFlow!"
      ]
    },
    {
      "cell_type": "markdown",
      "metadata": {
        "id": "KQTUeFZ2tnk7",
        "colab_type": "text"
      },
      "source": [
        "____\n",
        "### Quick Note on Super() and OOP"
      ]
    },
    {
      "cell_type": "code",
      "metadata": {
        "id": "0OxfemQRtnk8",
        "colab_type": "code",
        "colab": {}
      },
      "source": [
        "class SimpleClass():\n",
        "    \n",
        "    def __init__(self,str_input):\n",
        "        print(\"SIMPLE\"+str_input)"
      ],
      "execution_count": 0,
      "outputs": []
    },
    {
      "cell_type": "code",
      "metadata": {
        "id": "9dzWN1yAtnk_",
        "colab_type": "code",
        "colab": {}
      },
      "source": [
        "class ExtendedClass(SimpleClass):\n",
        "    \n",
        "    def __init__(self):\n",
        "        print('EXTENDED')"
      ],
      "execution_count": 0,
      "outputs": []
    },
    {
      "cell_type": "code",
      "metadata": {
        "id": "XQBGdkTmtnlC",
        "colab_type": "code",
        "colab": {
          "base_uri": "https://localhost:8080/",
          "height": 34
        },
        "outputId": "7690f540-6e5d-4ff3-8e3a-ba0a6187392c"
      },
      "source": [
        "s = ExtendedClass()"
      ],
      "execution_count": 3,
      "outputs": [
        {
          "output_type": "stream",
          "text": [
            "EXTENDED\n"
          ],
          "name": "stdout"
        }
      ]
    },
    {
      "cell_type": "code",
      "metadata": {
        "id": "W508Cw9ttnlG",
        "colab_type": "code",
        "colab": {}
      },
      "source": [
        "class ExtendedClass(SimpleClass):\n",
        "    \n",
        "    def __init__(self):\n",
        "        \n",
        "        super().__init__(\" My String\")\n",
        "        print('EXTENDED')"
      ],
      "execution_count": 0,
      "outputs": []
    },
    {
      "cell_type": "code",
      "metadata": {
        "id": "cMl3-XUctnlJ",
        "colab_type": "code",
        "colab": {
          "base_uri": "https://localhost:8080/",
          "height": 50
        },
        "outputId": "b7d58ad3-1370-49d9-ffd1-e13e3a1d3dd6"
      },
      "source": [
        "s = ExtendedClass()"
      ],
      "execution_count": 5,
      "outputs": [
        {
          "output_type": "stream",
          "text": [
            "SIMPLE My String\n",
            "EXTENDED\n"
          ],
          "name": "stdout"
        }
      ]
    },
    {
      "cell_type": "markdown",
      "metadata": {
        "id": "fwSALVcbtnlM",
        "colab_type": "text"
      },
      "source": [
        "________"
      ]
    },
    {
      "cell_type": "markdown",
      "metadata": {
        "id": "73b-vPGftnlN",
        "colab_type": "text"
      },
      "source": [
        "## Operation"
      ]
    },
    {
      "cell_type": "code",
      "metadata": {
        "id": "7WBWCSQ1tnlO",
        "colab_type": "code",
        "colab": {}
      },
      "source": [
        "class Operation():\n",
        "    \"\"\"\n",
        "    An Operation is a node in a \"Graph\". TensorFlow will also use this concept of a Graph.\n",
        "    \n",
        "    This Operation class will be inherited by other classes that actually compute the specific\n",
        "    operation, such as adding or matrix multiplication.\n",
        "    \"\"\"\n",
        "    \n",
        "    def __init__(self, input_nodes = []):\n",
        "        \"\"\"\n",
        "        Intialize an Operation\n",
        "        \"\"\"\n",
        "        self.input_nodes = input_nodes # The list of input nodes\n",
        "        self.output_nodes = [] # List of nodes consuming this node's output\n",
        "        \n",
        "        # For every node in the input, we append this operation (self) to the list of\n",
        "        # the consumers of the input nodes\n",
        "        for node in input_nodes:\n",
        "            node.output_nodes.append(self)\n",
        "        \n",
        "        # There will be a global default graph (TensorFlow works this way)\n",
        "        # We will then append this particular operation\n",
        "        # Append this operation to the list of operations in the currently active default graph\n",
        "        _default_graph.operations.append(self)\n",
        "  \n",
        "    def compute(self):\n",
        "        \"\"\" \n",
        "        This is a placeholder function. It will be overwritten by the actual specific operation\n",
        "        that inherits from this class.\n",
        "        \n",
        "        \"\"\"\n",
        "        \n",
        "        pass"
      ],
      "execution_count": 0,
      "outputs": []
    },
    {
      "cell_type": "markdown",
      "metadata": {
        "id": "djqsCs2EtnlR",
        "colab_type": "text"
      },
      "source": [
        "## Example Operations\n",
        "\n",
        "### Addition"
      ]
    },
    {
      "cell_type": "code",
      "metadata": {
        "id": "YJORQVX9tnlR",
        "colab_type": "code",
        "colab": {}
      },
      "source": [
        "class add(Operation):\n",
        "    \n",
        "    def __init__(self, x, y):\n",
        "         \n",
        "        super().__init__([x, y])\n",
        "\n",
        "    def compute(self, x_var, y_var):\n",
        "         \n",
        "        self.inputs = [x_var, y_var]\n",
        "        return x_var + y_var"
      ],
      "execution_count": 0,
      "outputs": []
    },
    {
      "cell_type": "markdown",
      "metadata": {
        "id": "1t4gnLU5tnlU",
        "colab_type": "text"
      },
      "source": [
        "### Multiplication"
      ]
    },
    {
      "cell_type": "code",
      "metadata": {
        "id": "FTo16UnJtnlV",
        "colab_type": "code",
        "colab": {}
      },
      "source": [
        "class multiply(Operation):\n",
        "     \n",
        "    def __init__(self, a, b):\n",
        "        \n",
        "        super().__init__([a, b])\n",
        "    \n",
        "    def compute(self, a_var, b_var):\n",
        "         \n",
        "        self.inputs = [a_var, b_var]\n",
        "        return a_var * b_var"
      ],
      "execution_count": 0,
      "outputs": []
    },
    {
      "cell_type": "markdown",
      "metadata": {
        "id": "E3OUGFMwtnlY",
        "colab_type": "text"
      },
      "source": [
        "### Matrix Multiplication"
      ]
    },
    {
      "cell_type": "code",
      "metadata": {
        "id": "BBBQBj3otnlZ",
        "colab_type": "code",
        "colab": {}
      },
      "source": [
        "class matmul(Operation):\n",
        "     \n",
        "    def __init__(self, a, b):\n",
        "        \n",
        "        super().__init__([a, b])\n",
        "    \n",
        "    def compute(self, a_mat, b_mat):\n",
        "         \n",
        "        self.inputs = [a_mat, b_mat]\n",
        "        return a_mat.dot(b_mat)"
      ],
      "execution_count": 0,
      "outputs": []
    },
    {
      "cell_type": "markdown",
      "metadata": {
        "id": "PY4oaWJStnlb",
        "colab_type": "text"
      },
      "source": [
        "## Placeholders"
      ]
    },
    {
      "cell_type": "code",
      "metadata": {
        "id": "BGqzlYaAtnlc",
        "colab_type": "code",
        "colab": {}
      },
      "source": [
        "class Placeholder():\n",
        "    \"\"\"\n",
        "    A placeholder is a node that needs to be provided a value for computing the output in the Graph.\n",
        "    \"\"\"\n",
        "    \n",
        "    def __init__(self):\n",
        "        \n",
        "        self.output_nodes = []\n",
        "        \n",
        "        _default_graph.placeholders.append(self)"
      ],
      "execution_count": 0,
      "outputs": []
    },
    {
      "cell_type": "markdown",
      "metadata": {
        "id": "tcJI3JOZtnlg",
        "colab_type": "text"
      },
      "source": [
        "## Variables"
      ]
    },
    {
      "cell_type": "code",
      "metadata": {
        "id": "Nov5FInLtnlg",
        "colab_type": "code",
        "colab": {}
      },
      "source": [
        "class Variable():\n",
        "    \"\"\"\n",
        "    This variable is a changeable parameter of the Graph.\n",
        "    \"\"\"\n",
        "    \n",
        "    def __init__(self, initial_value = None):\n",
        "        \n",
        "        self.value = initial_value\n",
        "        self.output_nodes = []\n",
        "        \n",
        "         \n",
        "        _default_graph.variables.append(self)"
      ],
      "execution_count": 0,
      "outputs": []
    },
    {
      "cell_type": "markdown",
      "metadata": {
        "id": "JRd7VX4itnlj",
        "colab_type": "text"
      },
      "source": [
        "## Graph"
      ]
    },
    {
      "cell_type": "code",
      "metadata": {
        "id": "Vm-f_FBptnlk",
        "colab_type": "code",
        "colab": {}
      },
      "source": [
        "class Graph():\n",
        "    \n",
        "    \n",
        "    def __init__(self):\n",
        "        \n",
        "        self.operations = []\n",
        "        self.placeholders = []\n",
        "        self.variables = []\n",
        "        \n",
        "    def set_as_default(self):\n",
        "        \"\"\"\n",
        "        Sets this Graph instance as the Global Default Graph\n",
        "        \"\"\"\n",
        "        global _default_graph\n",
        "        _default_graph = self"
      ],
      "execution_count": 0,
      "outputs": []
    },
    {
      "cell_type": "markdown",
      "metadata": {
        "id": "jud7aRXZtnln",
        "colab_type": "text"
      },
      "source": [
        "## A Basic Graph\n",
        "\n",
        "$$ z = Ax + b $$\n",
        "\n",
        "With A=10 and b=1\n",
        "\n",
        "$$ z = 10x + 1 $$\n",
        "\n",
        "Just need a placeholder for x and then once x is filled in we can solve it!"
      ]
    },
    {
      "cell_type": "code",
      "metadata": {
        "id": "eiTu8tTNtnlo",
        "colab_type": "code",
        "colab": {}
      },
      "source": [
        "g = Graph()"
      ],
      "execution_count": 0,
      "outputs": []
    },
    {
      "cell_type": "code",
      "metadata": {
        "id": "Fv6S4ZlTtnlr",
        "colab_type": "code",
        "colab": {}
      },
      "source": [
        "g.set_as_default()"
      ],
      "execution_count": 0,
      "outputs": []
    },
    {
      "cell_type": "code",
      "metadata": {
        "id": "zjDzZj68tnlu",
        "colab_type": "code",
        "colab": {}
      },
      "source": [
        "A = Variable(10)"
      ],
      "execution_count": 0,
      "outputs": []
    },
    {
      "cell_type": "code",
      "metadata": {
        "id": "caAFuJIitnlw",
        "colab_type": "code",
        "colab": {}
      },
      "source": [
        "b = Variable(1)"
      ],
      "execution_count": 0,
      "outputs": []
    },
    {
      "cell_type": "code",
      "metadata": {
        "id": "8fWMDXAstnlz",
        "colab_type": "code",
        "colab": {}
      },
      "source": [
        "# Will be filled out later\n",
        "x = Placeholder()"
      ],
      "execution_count": 0,
      "outputs": []
    },
    {
      "cell_type": "code",
      "metadata": {
        "id": "ewMHOvw7tnl2",
        "colab_type": "code",
        "colab": {}
      },
      "source": [
        "y = multiply(A,x)"
      ],
      "execution_count": 0,
      "outputs": []
    },
    {
      "cell_type": "code",
      "metadata": {
        "id": "K-7YoAjUtnl5",
        "colab_type": "code",
        "colab": {}
      },
      "source": [
        "z = add(y,b)"
      ],
      "execution_count": 0,
      "outputs": []
    },
    {
      "cell_type": "markdown",
      "metadata": {
        "id": "lIb3kIYatnl7",
        "colab_type": "text"
      },
      "source": [
        "## Session"
      ]
    },
    {
      "cell_type": "code",
      "metadata": {
        "id": "nO0CYeYntnl8",
        "colab_type": "code",
        "colab": {}
      },
      "source": [
        "import numpy as np"
      ],
      "execution_count": 0,
      "outputs": []
    },
    {
      "cell_type": "markdown",
      "metadata": {
        "id": "wHTw63ACtnl-",
        "colab_type": "text"
      },
      "source": [
        "### Traversing Operation Nodes"
      ]
    },
    {
      "cell_type": "code",
      "metadata": {
        "id": "NLGHucl4tnl_",
        "colab_type": "code",
        "colab": {}
      },
      "source": [
        "def traverse_postorder(operation):\n",
        "    \"\"\" \n",
        "    PostOrder Traversal of Nodes. Basically makes sure computations are done in \n",
        "    the correct order (Ax first , then Ax + b). Feel free to copy and paste this code.\n",
        "    It is not super important for understanding the basic fundamentals of deep learning.\n",
        "    \"\"\"\n",
        "    \n",
        "    nodes_postorder = []\n",
        "    def recurse(node):\n",
        "        if isinstance(node, Operation):\n",
        "            for input_node in node.input_nodes:\n",
        "                recurse(input_node)\n",
        "        nodes_postorder.append(node)\n",
        "\n",
        "    recurse(operation)\n",
        "    return nodes_postorder"
      ],
      "execution_count": 0,
      "outputs": []
    },
    {
      "cell_type": "code",
      "metadata": {
        "id": "APgfC4xvtnmC",
        "colab_type": "code",
        "colab": {}
      },
      "source": [
        "class Session:\n",
        "    \n",
        "    def run(self, operation, feed_dict = {}):\n",
        "        \"\"\" \n",
        "          operation: The operation to compute\n",
        "          feed_dict: Dictionary mapping placeholders to input values (the data)  \n",
        "        \"\"\"\n",
        "        \n",
        "        # Puts nodes in correct order\n",
        "        nodes_postorder = traverse_postorder(operation)\n",
        "        \n",
        "        for node in nodes_postorder:\n",
        "\n",
        "            if type(node) == Placeholder:\n",
        "                \n",
        "                node.output = feed_dict[node]\n",
        "                \n",
        "            elif type(node) == Variable:\n",
        "                \n",
        "                node.output = node.value\n",
        "                \n",
        "            else: # Operation\n",
        "                \n",
        "                node.inputs = [input_node.output for input_node in node.input_nodes]\n",
        "\n",
        "                 \n",
        "                node.output = node.compute(*node.inputs)\n",
        "                \n",
        "            # Convert lists to numpy arrays\n",
        "            if type(node.output) == list:\n",
        "                node.output = np.array(node.output)\n",
        "        \n",
        "        # Return the requested node value\n",
        "        return operation.output\n",
        "\n",
        "\n"
      ],
      "execution_count": 0,
      "outputs": []
    },
    {
      "cell_type": "code",
      "metadata": {
        "id": "Y25CYYmCtnmE",
        "colab_type": "code",
        "colab": {}
      },
      "source": [
        "sess = Session()"
      ],
      "execution_count": 0,
      "outputs": []
    },
    {
      "cell_type": "code",
      "metadata": {
        "id": "aLFwXQe1tnmG",
        "colab_type": "code",
        "colab": {}
      },
      "source": [
        "result = sess.run(operation=z,feed_dict={x:10})"
      ],
      "execution_count": 0,
      "outputs": []
    },
    {
      "cell_type": "code",
      "metadata": {
        "id": "ygj9Xx-GtnmK",
        "colab_type": "code",
        "colab": {
          "base_uri": "https://localhost:8080/",
          "height": 34
        },
        "outputId": "f453cc1b-8f1f-4069-e3c8-a93bd14f5b47"
      },
      "source": [
        "result"
      ],
      "execution_count": 25,
      "outputs": [
        {
          "output_type": "execute_result",
          "data": {
            "text/plain": [
              "101"
            ]
          },
          "metadata": {
            "tags": []
          },
          "execution_count": 25
        }
      ]
    },
    {
      "cell_type": "code",
      "metadata": {
        "id": "LrLbWmFStnmN",
        "colab_type": "code",
        "colab": {
          "base_uri": "https://localhost:8080/",
          "height": 34
        },
        "outputId": "0b667911-fb7d-47c2-b123-ad20477dd63c"
      },
      "source": [
        "10*10 + 1"
      ],
      "execution_count": 26,
      "outputs": [
        {
          "output_type": "execute_result",
          "data": {
            "text/plain": [
              "101"
            ]
          },
          "metadata": {
            "tags": []
          },
          "execution_count": 26
        }
      ]
    },
    {
      "cell_type": "markdown",
      "metadata": {
        "id": "6PFGmwnqtnmQ",
        "colab_type": "text"
      },
      "source": [
        "** Looks like we did it! **"
      ]
    },
    {
      "cell_type": "code",
      "metadata": {
        "id": "fYqlPymvtnmR",
        "colab_type": "code",
        "colab": {}
      },
      "source": [
        "g = Graph()\n",
        "\n",
        "g.set_as_default()\n",
        "\n",
        "A = Variable([[10,20],[30,40]])\n",
        "b = Variable([1,1])\n",
        "\n",
        "x = Placeholder()\n",
        "\n",
        "y = matmul(A,x)\n",
        "\n",
        "z = add(y,b)\n"
      ],
      "execution_count": 0,
      "outputs": []
    },
    {
      "cell_type": "code",
      "metadata": {
        "id": "zOqwsQnrtnmU",
        "colab_type": "code",
        "colab": {}
      },
      "source": [
        "sess = Session()"
      ],
      "execution_count": 0,
      "outputs": []
    },
    {
      "cell_type": "code",
      "metadata": {
        "id": "CJOIon9StnmW",
        "colab_type": "code",
        "colab": {}
      },
      "source": [
        "result = sess.run(operation=z,feed_dict={x:10})"
      ],
      "execution_count": 0,
      "outputs": []
    },
    {
      "cell_type": "code",
      "metadata": {
        "id": "GUCK2wyGtnmZ",
        "colab_type": "code",
        "colab": {
          "base_uri": "https://localhost:8080/",
          "height": 50
        },
        "outputId": "eda95b5d-f59a-46b9-a422-f1de5c166f08"
      },
      "source": [
        "result"
      ],
      "execution_count": 30,
      "outputs": [
        {
          "output_type": "execute_result",
          "data": {
            "text/plain": [
              "array([[101, 201],\n",
              "       [301, 401]])"
            ]
          },
          "metadata": {
            "tags": []
          },
          "execution_count": 30
        }
      ]
    },
    {
      "cell_type": "markdown",
      "metadata": {
        "id": "-SGGwVl-tnmb",
        "colab_type": "text"
      },
      "source": [
        "## Activation Function"
      ]
    },
    {
      "cell_type": "code",
      "metadata": {
        "id": "2ElO_C_Ktnmc",
        "colab_type": "code",
        "colab": {}
      },
      "source": [
        "import matplotlib.pyplot as plt\n",
        "%matplotlib inline"
      ],
      "execution_count": 0,
      "outputs": []
    },
    {
      "cell_type": "code",
      "metadata": {
        "id": "_lGRl1tvtnme",
        "colab_type": "code",
        "colab": {}
      },
      "source": [
        "def sigmoid(z):\n",
        "    return 1/(1+np.exp(-z))"
      ],
      "execution_count": 0,
      "outputs": []
    },
    {
      "cell_type": "code",
      "metadata": {
        "id": "gHQzwjvRtnmg",
        "colab_type": "code",
        "colab": {}
      },
      "source": [
        "sample_z = np.linspace(-10,10,100)\n",
        "sample_a = sigmoid(sample_z)"
      ],
      "execution_count": 0,
      "outputs": []
    },
    {
      "cell_type": "code",
      "metadata": {
        "id": "oMi1B5EXtnmi",
        "colab_type": "code",
        "colab": {
          "base_uri": "https://localhost:8080/",
          "height": 282
        },
        "outputId": "af210a81-6f68-4ae7-9d15-2dcbd779511d"
      },
      "source": [
        "plt.plot(sample_z,sample_a)"
      ],
      "execution_count": 34,
      "outputs": [
        {
          "output_type": "execute_result",
          "data": {
            "text/plain": [
              "[<matplotlib.lines.Line2D at 0x7fe8b23c1d68>]"
            ]
          },
          "metadata": {
            "tags": []
          },
          "execution_count": 34
        },
        {
          "output_type": "display_data",
          "data": {
            "image/png": "[encoded data removed]",
            "text/plain": [
              "<Figure size 432x288 with 1 Axes>"
            ]
          },
          "metadata": {
            "tags": []
          }
        }
      ]
    },
    {
      "cell_type": "markdown",
      "metadata": {
        "id": "uYsiRJBWtnmk",
        "colab_type": "text"
      },
      "source": [
        "#### Sigmoid as an Operation"
      ]
    },
    {
      "cell_type": "code",
      "metadata": {
        "id": "HtTBDgzbtnmm",
        "colab_type": "code",
        "colab": {}
      },
      "source": [
        "class Sigmoid(Operation):\n",
        " \n",
        "    \n",
        "    def __init__(self, z):\n",
        "\n",
        "        # a is the input node\n",
        "        super().__init__([z])\n",
        "\n",
        "    def compute(self, z_val):\n",
        "        \n",
        "        return 1/(1+np.exp(-z_val))"
      ],
      "execution_count": 0,
      "outputs": []
    },
    {
      "cell_type": "markdown",
      "metadata": {
        "id": "UitEde0ttnmp",
        "colab_type": "text"
      },
      "source": [
        "## Classification Example"
      ]
    },
    {
      "cell_type": "code",
      "metadata": {
        "id": "x43NEV97tnmr",
        "colab_type": "code",
        "colab": {}
      },
      "source": [
        "from sklearn.datasets import make_blobs"
      ],
      "execution_count": 0,
      "outputs": []
    },
    {
      "cell_type": "code",
      "metadata": {
        "id": "MKl_vUQvtnms",
        "colab_type": "code",
        "colab": {}
      },
      "source": [
        "data = make_blobs(n_samples = 50,n_features=2,centers=2,random_state=75)"
      ],
      "execution_count": 0,
      "outputs": []
    },
    {
      "cell_type": "code",
      "metadata": {
        "id": "yNQ8-vJitnmv",
        "colab_type": "code",
        "colab": {
          "base_uri": "https://localhost:8080/",
          "height": 907
        },
        "outputId": "d91cdc6f-82f1-483a-ba2c-de59991e467b"
      },
      "source": [
        "data"
      ],
      "execution_count": 38,
      "outputs": [
        {
          "output_type": "execute_result",
          "data": {
            "text/plain": [
              "(array([[  7.3402781 ,   9.36149154],\n",
              "        [  9.13332743,   8.74906102],\n",
              "        [  1.99243535,  -8.85885722],\n",
              "        [  7.38443759,   7.72520389],\n",
              "        [  7.97613887,   8.80878209],\n",
              "        [  7.76974352,   9.50899462],\n",
              "        [  8.3186688 ,  10.1026025 ],\n",
              "        [  8.79588546,   7.28046702],\n",
              "        [  9.81270381,   9.46968531],\n",
              "        [  1.57961049,  -8.17089971],\n",
              "        [  0.06441546,  -9.04982817],\n",
              "        [  7.2075117 ,   7.04533624],\n",
              "        [  9.10704928,   9.0272212 ],\n",
              "        [  1.82921897,  -9.86956281],\n",
              "        [  7.85036314,   7.986659  ],\n",
              "        [  3.04605603,  -7.50486114],\n",
              "        [  1.85582689,  -6.74473432],\n",
              "        [  2.88603902,  -8.85261704],\n",
              "        [ -1.20046211,  -9.55928542],\n",
              "        [  2.00890845,  -9.78471782],\n",
              "        [  7.68945113,   9.01706723],\n",
              "        [  6.42356167,   8.33356412],\n",
              "        [  8.15467319,   7.87489634],\n",
              "        [  1.92000795,  -7.50953708],\n",
              "        [  1.90073973,  -7.24386675],\n",
              "        [  7.7605855 ,   7.05124418],\n",
              "        [  6.90561582,   9.23493842],\n",
              "        [  0.65582768,  -9.5920878 ],\n",
              "        [  1.41804346,  -8.10517372],\n",
              "        [  9.65371965,   9.35409538],\n",
              "        [  1.23053506,  -7.98873571],\n",
              "        [  1.96322881,  -9.50169117],\n",
              "        [  6.11644251,   9.26709393],\n",
              "        [  7.70630321,  10.78862346],\n",
              "        [  0.79580385,  -9.00301023],\n",
              "        [  3.13114921,  -8.6849493 ],\n",
              "        [  1.3970852 ,  -7.25918415],\n",
              "        [  7.27808709,   7.15201886],\n",
              "        [  1.06965742,  -8.1648251 ],\n",
              "        [  6.37298915,   9.77705761],\n",
              "        [  7.24898455,   8.85834104],\n",
              "        [  2.09335725,  -7.66278316],\n",
              "        [  1.05865542,  -8.43841416],\n",
              "        [  6.43807502,   7.85483418],\n",
              "        [  6.94948313,   8.75248232],\n",
              "        [ -0.07326715, -11.69999644],\n",
              "        [  0.61463602,  -9.51908883],\n",
              "        [  1.31977821,  -7.2710667 ],\n",
              "        [  2.72532584,  -7.51956557],\n",
              "        [  8.20949206,  11.90419283]]),\n",
              " array([1, 1, 0, 1, 1, 1, 1, 1, 1, 0, 0, 1, 1, 0, 1, 0, 0, 0, 0, 0, 1, 1,\n",
              "        1, 0, 0, 1, 1, 0, 0, 1, 0, 0, 1, 1, 0, 0, 0, 1, 0, 1, 1, 0, 0, 1,\n",
              "        1, 0, 0, 0, 0, 1]))"
            ]
          },
          "metadata": {
            "tags": []
          },
          "execution_count": 38
        }
      ]
    },
    {
      "cell_type": "code",
      "metadata": {
        "id": "5fBRdpxWtnmy",
        "colab_type": "code",
        "colab": {
          "base_uri": "https://localhost:8080/",
          "height": 282
        },
        "outputId": "b558cd88-47cf-470f-ffd6-8410e01b3a27"
      },
      "source": [
        "features = data[0]\n",
        "plt.scatter(features[:,0],features[:,1])"
      ],
      "execution_count": 39,
      "outputs": [
        {
          "output_type": "execute_result",
          "data": {
            "text/plain": [
              "<matplotlib.collections.PathCollection at 0x7fe8a644d908>"
            ]
          },
          "metadata": {
            "tags": []
          },
          "execution_count": 39
        },
        {
          "output_type": "display_data",
          "data": {
            "image/png": "[encoded data removed]",
            "text/plain": [
              "<Figure size 432x288 with 1 Axes>"
            ]
          },
          "metadata": {
            "tags": []
          }
        }
      ]
    },
    {
      "cell_type": "code",
      "metadata": {
        "id": "1FYpPxFktnm0",
        "colab_type": "code",
        "colab": {
          "base_uri": "https://localhost:8080/",
          "height": 282
        },
        "outputId": "904e3d69-641a-4914-beaf-bdbf80c08ca6"
      },
      "source": [
        "labels = data[1]\n",
        "plt.scatter(features[:,0],features[:,1],c=labels,cmap='coolwarm')"
      ],
      "execution_count": 40,
      "outputs": [
        {
          "output_type": "execute_result",
          "data": {
            "text/plain": [
              "<matplotlib.collections.PathCollection at 0x7fe8a3bbb588>"
            ]
          },
          "metadata": {
            "tags": []
          },
          "execution_count": 40
        },
        {
          "output_type": "display_data",
          "data": {
            "image/png": "[encoded data removed]",
            "text/plain": [
              "<Figure size 432x288 with 1 Axes>"
            ]
          },
          "metadata": {
            "tags": []
          }
        }
      ]
    },
    {
      "cell_type": "code",
      "metadata": {
        "id": "pHQ8io9Qtnm1",
        "colab_type": "code",
        "colab": {
          "base_uri": "https://localhost:8080/",
          "height": 282
        },
        "outputId": "b104c78e-a989-41bb-b8fd-d64b285360ae"
      },
      "source": [
        "# DRAW A LINE THAT SEPERATES CLASSES\n",
        "x = np.linspace(0,11,10)\n",
        "y = -x + 5\n",
        "plt.scatter(features[:,0],features[:,1],c=labels,cmap='coolwarm')\n",
        "plt.plot(x,y)"
      ],
      "execution_count": 41,
      "outputs": [
        {
          "output_type": "execute_result",
          "data": {
            "text/plain": [
              "[<matplotlib.lines.Line2D at 0x7fe8b1f47c50>]"
            ]
          },
          "metadata": {
            "tags": []
          },
          "execution_count": 41
        },
        {
          "output_type": "display_data",
          "data": {
            "image/png": "[encoded data removed]",
            "text/plain": [
              "<Figure size 432x288 with 1 Axes>"
            ]
          },
          "metadata": {
            "tags": []
          }
        }
      ]
    },
    {
      "cell_type": "markdown",
      "metadata": {
        "id": "tNPTgWBhtnm3",
        "colab_type": "text"
      },
      "source": [
        "## Defining the Perceptron\n",
        "\n",
        "$$ y = mx + b $$\n",
        "\n",
        "$$ y = -x + 5 $$\n",
        "\n",
        "$$ f1 = mf2 + b , m=1$$\n",
        "\n",
        "$$ f1 = -f2 + 5 $$\n",
        "\n",
        "$$ f1 + f2 - 5 = 0 $$\n"
      ]
    },
    {
      "cell_type": "markdown",
      "metadata": {
        "id": "2c_T9nkNtnm4",
        "colab_type": "text"
      },
      "source": [
        "### Convert to a Matrix Representation of Features"
      ]
    },
    {
      "cell_type": "markdown",
      "metadata": {
        "id": "QRsQLUlotnm5",
        "colab_type": "text"
      },
      "source": [
        "$$ w^Tx + b = 0 $$\n",
        "\n",
        "$$   \\Big(1, 1\\Big)f - 5 = 0 $$\n",
        "\n",
        "Then if the result is > 0 its label 1, if it is less than 0, it is label=0\n",
        "\n"
      ]
    },
    {
      "cell_type": "markdown",
      "metadata": {
        "id": "tyBhKX1rtnm6",
        "colab_type": "text"
      },
      "source": [
        "### Example Point\n",
        "\n",
        "Let's say we have the point f1=2 , f2=2 otherwise stated as (8,10). Then we have:\n",
        "\n",
        "$$ \n",
        "\\begin{pmatrix} \n",
        "1 , 1\n",
        "\\end{pmatrix} \n",
        "\\begin{pmatrix} \n",
        "8 \\\\\n",
        "10\n",
        "\\end{pmatrix} + 5 =  $$"
      ]
    },
    {
      "cell_type": "code",
      "metadata": {
        "id": "ObEozBfctnm6",
        "colab_type": "code",
        "colab": {
          "base_uri": "https://localhost:8080/",
          "height": 34
        },
        "outputId": "347ba5cd-670c-4cd0-ddb3-9f0b064fb3a5"
      },
      "source": [
        "np.array([1, 1]).dot(np.array([[8],[10]])) - 5"
      ],
      "execution_count": 42,
      "outputs": [
        {
          "output_type": "execute_result",
          "data": {
            "text/plain": [
              "array([13])"
            ]
          },
          "metadata": {
            "tags": []
          },
          "execution_count": 42
        }
      ]
    },
    {
      "cell_type": "markdown",
      "metadata": {
        "id": "fmwYCoGdtnm8",
        "colab_type": "text"
      },
      "source": [
        "Or if we have (4,-10)"
      ]
    },
    {
      "cell_type": "code",
      "metadata": {
        "id": "mj0D8MA9tnm8",
        "colab_type": "code",
        "colab": {
          "base_uri": "https://localhost:8080/",
          "height": 34
        },
        "outputId": "92b02d6f-5cfa-4f00-aaf3-10fd5aeff63b"
      },
      "source": [
        "np.array([1,1]).dot(np.array([[4],[-10]])) - 5"
      ],
      "execution_count": 43,
      "outputs": [
        {
          "output_type": "execute_result",
          "data": {
            "text/plain": [
              "array([-11])"
            ]
          },
          "metadata": {
            "tags": []
          },
          "execution_count": 43
        }
      ]
    },
    {
      "cell_type": "markdown",
      "metadata": {
        "id": "aZLwRDNTtnm-",
        "colab_type": "text"
      },
      "source": [
        "### Using an Example Session Graph"
      ]
    },
    {
      "cell_type": "code",
      "metadata": {
        "id": "fLDswLk-tnm-",
        "colab_type": "code",
        "colab": {}
      },
      "source": [
        "g = Graph()"
      ],
      "execution_count": 0,
      "outputs": []
    },
    {
      "cell_type": "code",
      "metadata": {
        "id": "3v_L6bQftnnB",
        "colab_type": "code",
        "colab": {}
      },
      "source": [
        "g.set_as_default()"
      ],
      "execution_count": 0,
      "outputs": []
    },
    {
      "cell_type": "code",
      "metadata": {
        "id": "mvoPoQ9FtnnD",
        "colab_type": "code",
        "colab": {}
      },
      "source": [
        "x = Placeholder()"
      ],
      "execution_count": 0,
      "outputs": []
    },
    {
      "cell_type": "code",
      "metadata": {
        "id": "Q3gWRqQ9tnnE",
        "colab_type": "code",
        "colab": {}
      },
      "source": [
        "w = Variable([1,1])"
      ],
      "execution_count": 0,
      "outputs": []
    },
    {
      "cell_type": "code",
      "metadata": {
        "id": "pNr6qSbZtnnH",
        "colab_type": "code",
        "colab": {}
      },
      "source": [
        "b = Variable(-5)"
      ],
      "execution_count": 0,
      "outputs": []
    },
    {
      "cell_type": "code",
      "metadata": {
        "id": "JDrT10_YtnnJ",
        "colab_type": "code",
        "colab": {}
      },
      "source": [
        "z = add(matmul(w,x),b)"
      ],
      "execution_count": 0,
      "outputs": []
    },
    {
      "cell_type": "code",
      "metadata": {
        "id": "-CJCXXQbtnnK",
        "colab_type": "code",
        "colab": {}
      },
      "source": [
        "a = Sigmoid(z)"
      ],
      "execution_count": 0,
      "outputs": []
    },
    {
      "cell_type": "code",
      "metadata": {
        "id": "EtZ6AhXdtnnM",
        "colab_type": "code",
        "colab": {}
      },
      "source": [
        "sess = Session()"
      ],
      "execution_count": 0,
      "outputs": []
    },
    {
      "cell_type": "code",
      "metadata": {
        "id": "X_SCCb3LtnnO",
        "colab_type": "code",
        "colab": {
          "base_uri": "https://localhost:8080/",
          "height": 34
        },
        "outputId": "7ae31aac-32f5-467f-a835-ae4ffa7da5f0"
      },
      "source": [
        "sess.run(operation=a,feed_dict={x:[8,10]})"
      ],
      "execution_count": 52,
      "outputs": [
        {
          "output_type": "execute_result",
          "data": {
            "text/plain": [
              "0.999997739675702"
            ]
          },
          "metadata": {
            "tags": []
          },
          "execution_count": 52
        }
      ]
    },
    {
      "cell_type": "code",
      "metadata": {
        "id": "6Fup4Jd-tnnQ",
        "colab_type": "code",
        "colab": {
          "base_uri": "https://localhost:8080/",
          "height": 34
        },
        "outputId": "2eb697e5-02e6-48e0-8729-6e8cc44e2547"
      },
      "source": [
        "sess.run(operation=a,feed_dict={x:[0,-10]})"
      ],
      "execution_count": 53,
      "outputs": [
        {
          "output_type": "execute_result",
          "data": {
            "text/plain": [
              "3.059022269256247e-07"
            ]
          },
          "metadata": {
            "tags": []
          },
          "execution_count": 53
        }
      ]
    }
  ]
}