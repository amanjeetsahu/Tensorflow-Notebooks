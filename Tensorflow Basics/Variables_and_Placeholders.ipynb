{
  "nbformat": 4,
  "nbformat_minor": 0,
  "metadata": {
    "kernelspec": {
      "display_name": "Python 3",
      "language": "python",
      "name": "python3"
    },
    "language_info": {
      "codemirror_mode": {
        "name": "ipython",
        "version": 3
      },
      "file_extension": ".py",
      "mimetype": "text/x-python",
      "name": "python",
      "nbconvert_exporter": "python",
      "pygments_lexer": "ipython3",
      "version": "3.5.4"
    },
    "colab": {
      "name": "Variables-and-Placeholders.ipynb",
      "provenance": []
    }
  },
  "cells": [
    {
      "cell_type": "markdown",
      "metadata": {
        "id": "xAEjsXUM9uS3",
        "colab_type": "text"
      },
      "source": [
        "# Variables and Placeholders"
      ]
    },
    {
      "cell_type": "code",
      "metadata": {
        "id": "zNrf1Ohl9uS6",
        "colab_type": "code",
        "colab": {
          "base_uri": "https://localhost:8080/",
          "height": 62
        },
        "outputId": "2634e472-48d9-46a6-9ca2-b09d01a3c18e"
      },
      "source": [
        "import tensorflow as tf"
      ],
      "execution_count": 1,
      "outputs": [
        {
          "output_type": "display_data",
          "data": {
            "text/html": [
              "<p style=\"color: red;\">\n",
              "The default version of TensorFlow in Colab will soon switch to TensorFlow 2.x.<br>\n",
              "We recommend you <a href=\"https://www.tensorflow.org/guide/migrate\" target=\"_blank\">upgrade</a> now \n",
              "or ensure your notebook will continue to use TensorFlow 1.x via the <code>%tensorflow_version 1.x</code> magic:\n",
              "<a href=\"https://colab.research.google.com/notebooks/tensorflow_version.ipynb\" target=\"_blank\">more info</a>.</p>\n"
            ],
            "text/plain": [
              "<IPython.core.display.HTML object>"
            ]
          },
          "metadata": {
            "tags": []
          }
        }
      ]
    },
    {
      "cell_type": "code",
      "metadata": {
        "id": "nQsHfx0g9uS9",
        "colab_type": "code",
        "colab": {}
      },
      "source": [
        "sess = tf.InteractiveSession()"
      ],
      "execution_count": 0,
      "outputs": []
    },
    {
      "cell_type": "markdown",
      "metadata": {
        "id": "myvge67c9uS_",
        "colab_type": "text"
      },
      "source": [
        "## Variables"
      ]
    },
    {
      "cell_type": "code",
      "metadata": {
        "id": "ySAvO7cm9uTA",
        "colab_type": "code",
        "colab": {}
      },
      "source": [
        "my_tensor = tf.random_uniform((4,4),0,1)"
      ],
      "execution_count": 0,
      "outputs": []
    },
    {
      "cell_type": "code",
      "metadata": {
        "id": "6581P_vb9uTD",
        "colab_type": "code",
        "colab": {}
      },
      "source": [
        "my_var = tf.Variable(initial_value=my_tensor)"
      ],
      "execution_count": 0,
      "outputs": []
    },
    {
      "cell_type": "code",
      "metadata": {
        "id": "yxemDya69uTF",
        "colab_type": "code",
        "colab": {
          "base_uri": "https://localhost:8080/",
          "height": 34
        },
        "outputId": "fd062841-9caa-457a-9a70-c9ab4488ce7f"
      },
      "source": [
        "print(my_var)"
      ],
      "execution_count": 5,
      "outputs": [
        {
          "output_type": "stream",
          "text": [
            "<tf.Variable 'Variable:0' shape=(4, 4) dtype=float32_ref>\n"
          ],
          "name": "stdout"
        }
      ]
    },
    {
      "cell_type": "markdown",
      "metadata": {
        "id": "LNW6spse9uTJ",
        "colab_type": "text"
      },
      "source": [
        "#### Note! You must initialize all global variables!"
      ]
    },
    {
      "cell_type": "code",
      "metadata": {
        "id": "j3_ipOHo9uTJ",
        "colab_type": "code",
        "colab": {}
      },
      "source": [
        "# This line is really important, it is easy to forget!\n",
        "init = tf.global_variables_initializer()"
      ],
      "execution_count": 0,
      "outputs": []
    },
    {
      "cell_type": "code",
      "metadata": {
        "id": "VbAZl1rt9uTM",
        "colab_type": "code",
        "colab": {}
      },
      "source": [
        "init.run()"
      ],
      "execution_count": 0,
      "outputs": []
    },
    {
      "cell_type": "code",
      "metadata": {
        "id": "8k-RvLlR9uTO",
        "colab_type": "code",
        "colab": {
          "base_uri": "https://localhost:8080/",
          "height": 84
        },
        "outputId": "ec137cfe-eaa2-4825-a546-3d054d3941e8"
      },
      "source": [
        "my_var.eval()"
      ],
      "execution_count": 8,
      "outputs": [
        {
          "output_type": "execute_result",
          "data": {
            "text/plain": [
              "array([[0.3267001 , 0.9769548 , 0.9000337 , 0.47434735],\n",
              "       [0.6951896 , 0.2705649 , 0.54135144, 0.17178774],\n",
              "       [0.52920437, 0.8400543 , 0.40761602, 0.21554315],\n",
              "       [0.67549133, 0.96562684, 0.69742095, 0.09382427]], dtype=float32)"
            ]
          },
          "metadata": {
            "tags": []
          },
          "execution_count": 8
        }
      ]
    },
    {
      "cell_type": "code",
      "metadata": {
        "id": "PjeW0k9C9uTR",
        "colab_type": "code",
        "colab": {
          "base_uri": "https://localhost:8080/",
          "height": 84
        },
        "outputId": "326bdf40-89f4-4379-8c25-3f8d49fae20d"
      },
      "source": [
        "sess.run(my_var)"
      ],
      "execution_count": 9,
      "outputs": [
        {
          "output_type": "execute_result",
          "data": {
            "text/plain": [
              "array([[0.3267001 , 0.9769548 , 0.9000337 , 0.47434735],\n",
              "       [0.6951896 , 0.2705649 , 0.54135144, 0.17178774],\n",
              "       [0.52920437, 0.8400543 , 0.40761602, 0.21554315],\n",
              "       [0.67549133, 0.96562684, 0.69742095, 0.09382427]], dtype=float32)"
            ]
          },
          "metadata": {
            "tags": []
          },
          "execution_count": 9
        }
      ]
    },
    {
      "cell_type": "markdown",
      "metadata": {
        "id": "zLSieFbe9uTU",
        "colab_type": "text"
      },
      "source": [
        "## Placeholders"
      ]
    },
    {
      "cell_type": "code",
      "metadata": {
        "id": "UsULDQlu9uTU",
        "colab_type": "code",
        "colab": {}
      },
      "source": [
        "ph = tf.placeholder(tf.float64)"
      ],
      "execution_count": 0,
      "outputs": []
    },
    {
      "cell_type": "code",
      "metadata": {
        "id": "feS1UbEW9uTX",
        "colab_type": "code",
        "colab": {}
      },
      "source": [
        "ph = tf.placeholder(tf.int32)"
      ],
      "execution_count": 0,
      "outputs": []
    },
    {
      "cell_type": "code",
      "metadata": {
        "id": "Eq7sVj2k9uTa",
        "colab_type": "code",
        "colab": {}
      },
      "source": [
        "# For shape its common to use (None,# of Features) \n",
        "# because None can be filled by number of samples in data\n",
        "ph = tf.placeholder(tf.float32,shape=(None,5))"
      ],
      "execution_count": 0,
      "outputs": []
    }
  ]
}