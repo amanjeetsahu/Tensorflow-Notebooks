{
  "nbformat": 4,
  "nbformat_minor": 0,
  "metadata": {
    "kernelspec": {
      "display_name": "Python 3",
      "language": "python",
      "name": "python3"
    },
    "language_info": {
      "codemirror_mode": {
        "name": "ipython",
        "version": 3
      },
      "file_extension": ".py",
      "mimetype": "text/x-python",
      "name": "python",
      "nbconvert_exporter": "python",
      "pygments_lexer": "ipython3",
      "version": "3.5.4"
    },
    "colab": {
      "name": "TensorFlow-Basic-Syntax.ipynb",
      "provenance": []
    }
  },
  "cells": [
    {
      "cell_type": "markdown",
      "metadata": {
        "id": "ZzQ1A73E83Q1",
        "colab_type": "text"
      },
      "source": [
        "# TensorFlow Basics"
      ]
    },
    {
      "cell_type": "code",
      "metadata": {
        "id": "2lR6hVYa83Q4",
        "colab_type": "code",
        "colab": {
          "base_uri": "https://localhost:8080/",
          "height": 62
        },
        "outputId": "dacc2bd8-d5e1-44d4-c516-4a54cebc4751"
      },
      "source": [
        "import tensorflow as tf"
      ],
      "execution_count": 1,
      "outputs": [
        {
          "output_type": "display_data",
          "data": {
            "text/html": [
              "<p style=\"color: red;\">\n",
              "The default version of TensorFlow in Colab will soon switch to TensorFlow 2.x.<br>\n",
              "We recommend you <a href=\"https://www.tensorflow.org/guide/migrate\" target=\"_blank\">upgrade</a> now \n",
              "or ensure your notebook will continue to use TensorFlow 1.x via the <code>%tensorflow_version 1.x</code> magic:\n",
              "<a href=\"https://colab.research.google.com/notebooks/tensorflow_version.ipynb\" target=\"_blank\">more info</a>.</p>\n"
            ],
            "text/plain": [
              "<IPython.core.display.HTML object>"
            ]
          },
          "metadata": {
            "tags": []
          }
        }
      ]
    },
    {
      "cell_type": "code",
      "metadata": {
        "id": "Ql7eXaZu83Q7",
        "colab_type": "code",
        "colab": {
          "base_uri": "https://localhost:8080/",
          "height": 34
        },
        "outputId": "b3364cd9-0611-4c67-ea9d-719881cd5336"
      },
      "source": [
        "print(tf.__version__)"
      ],
      "execution_count": 2,
      "outputs": [
        {
          "output_type": "stream",
          "text": [
            "1.15.0\n"
          ],
          "name": "stdout"
        }
      ]
    },
    {
      "cell_type": "markdown",
      "metadata": {
        "id": "_1l4p0O783Q-",
        "colab_type": "text"
      },
      "source": [
        "## Tensors"
      ]
    },
    {
      "cell_type": "code",
      "metadata": {
        "id": "pSUPjirM83Q_",
        "colab_type": "code",
        "colab": {}
      },
      "source": [
        "hello = tf.constant('Hello')"
      ],
      "execution_count": 0,
      "outputs": []
    },
    {
      "cell_type": "code",
      "metadata": {
        "id": "QdtYxY_x83RC",
        "colab_type": "code",
        "colab": {
          "base_uri": "https://localhost:8080/",
          "height": 34
        },
        "outputId": "c9061054-bd7f-4bf9-ebe9-4fb15bddbc2c"
      },
      "source": [
        "type(hello)"
      ],
      "execution_count": 4,
      "outputs": [
        {
          "output_type": "execute_result",
          "data": {
            "text/plain": [
              "tensorflow.python.framework.ops.Tensor"
            ]
          },
          "metadata": {
            "tags": []
          },
          "execution_count": 4
        }
      ]
    },
    {
      "cell_type": "code",
      "metadata": {
        "id": "Y0XOu0gH83RE",
        "colab_type": "code",
        "colab": {}
      },
      "source": [
        "world = tf.constant('World')"
      ],
      "execution_count": 0,
      "outputs": []
    },
    {
      "cell_type": "code",
      "metadata": {
        "id": "5pkNmafQ83RH",
        "colab_type": "code",
        "colab": {}
      },
      "source": [
        "result = hello + world"
      ],
      "execution_count": 0,
      "outputs": []
    },
    {
      "cell_type": "code",
      "metadata": {
        "id": "qbG6HGlD83RK",
        "colab_type": "code",
        "colab": {
          "base_uri": "https://localhost:8080/",
          "height": 34
        },
        "outputId": "36d07567-ea36-4184-eed2-049eecafb78a"
      },
      "source": [
        "result"
      ],
      "execution_count": 7,
      "outputs": [
        {
          "output_type": "execute_result",
          "data": {
            "text/plain": [
              "<tf.Tensor 'add:0' shape=() dtype=string>"
            ]
          },
          "metadata": {
            "tags": []
          },
          "execution_count": 7
        }
      ]
    },
    {
      "cell_type": "code",
      "metadata": {
        "id": "O7F1dQLL83RM",
        "colab_type": "code",
        "colab": {
          "base_uri": "https://localhost:8080/",
          "height": 34
        },
        "outputId": "e8498af9-5b67-4d11-e542-6dafe17f262a"
      },
      "source": [
        "type(result)"
      ],
      "execution_count": 8,
      "outputs": [
        {
          "output_type": "execute_result",
          "data": {
            "text/plain": [
              "tensorflow.python.framework.ops.Tensor"
            ]
          },
          "metadata": {
            "tags": []
          },
          "execution_count": 8
        }
      ]
    },
    {
      "cell_type": "code",
      "metadata": {
        "id": "FAa8lcpQ83RO",
        "colab_type": "code",
        "colab": {}
      },
      "source": [
        "with tf.Session() as sess:\n",
        "    result = sess.run(hello+world)"
      ],
      "execution_count": 0,
      "outputs": []
    },
    {
      "cell_type": "code",
      "metadata": {
        "id": "zVB3tqnf83RR",
        "colab_type": "code",
        "colab": {
          "base_uri": "https://localhost:8080/",
          "height": 34
        },
        "outputId": "135e9227-e036-4a7d-e11f-9337618bfb41"
      },
      "source": [
        "result"
      ],
      "execution_count": 10,
      "outputs": [
        {
          "output_type": "execute_result",
          "data": {
            "text/plain": [
              "b'HelloWorld'"
            ]
          },
          "metadata": {
            "tags": []
          },
          "execution_count": 10
        }
      ]
    },
    {
      "cell_type": "markdown",
      "metadata": {
        "id": "L81rx6Fh83RU",
        "colab_type": "text"
      },
      "source": [
        "**Computations**"
      ]
    },
    {
      "cell_type": "code",
      "metadata": {
        "id": "9-5m2N6-83RU",
        "colab_type": "code",
        "colab": {}
      },
      "source": [
        "tensor_1 = tf.constant(1)\n",
        "tensor_2 = tf.constant(2)"
      ],
      "execution_count": 0,
      "outputs": []
    },
    {
      "cell_type": "code",
      "metadata": {
        "id": "kBgU8KMw83RW",
        "colab_type": "code",
        "colab": {
          "base_uri": "https://localhost:8080/",
          "height": 34
        },
        "outputId": "118bcfb0-1d9f-46af-cc74-e8434a1fc97b"
      },
      "source": [
        "type(tensor_1)"
      ],
      "execution_count": 12,
      "outputs": [
        {
          "output_type": "execute_result",
          "data": {
            "text/plain": [
              "tensorflow.python.framework.ops.Tensor"
            ]
          },
          "metadata": {
            "tags": []
          },
          "execution_count": 12
        }
      ]
    },
    {
      "cell_type": "code",
      "metadata": {
        "id": "pPbz9i5783RZ",
        "colab_type": "code",
        "colab": {
          "base_uri": "https://localhost:8080/",
          "height": 34
        },
        "outputId": "52fd736e-4c43-41fb-d0f2-bb3c15b7e39f"
      },
      "source": [
        "tensor_1 + tensor_2"
      ],
      "execution_count": 13,
      "outputs": [
        {
          "output_type": "execute_result",
          "data": {
            "text/plain": [
              "<tf.Tensor 'add_2:0' shape=() dtype=int32>"
            ]
          },
          "metadata": {
            "tags": []
          },
          "execution_count": 13
        }
      ]
    },
    {
      "cell_type": "code",
      "metadata": {
        "id": "bUY0icIG83Rc",
        "colab_type": "code",
        "colab": {
          "base_uri": "https://localhost:8080/",
          "height": 34
        },
        "outputId": "cdaaed0b-432b-4ac7-c18a-328993374515"
      },
      "source": [
        "sess"
      ],
      "execution_count": 14,
      "outputs": [
        {
          "output_type": "execute_result",
          "data": {
            "text/plain": [
              "<tensorflow.python.client.session.Session at 0x7f4d08ec7da0>"
            ]
          },
          "metadata": {
            "tags": []
          },
          "execution_count": 14
        }
      ]
    },
    {
      "cell_type": "code",
      "metadata": {
        "id": "SfA5lbgP83Rf",
        "colab_type": "code",
        "colab": {}
      },
      "source": [
        "sess.close()"
      ],
      "execution_count": 0,
      "outputs": []
    },
    {
      "cell_type": "markdown",
      "metadata": {
        "id": "OkutPM7o83Rh",
        "colab_type": "text"
      },
      "source": [
        "## Operations"
      ]
    },
    {
      "cell_type": "code",
      "metadata": {
        "id": "zag6JMR783Ri",
        "colab_type": "code",
        "colab": {}
      },
      "source": [
        "const = tf.constant(10)"
      ],
      "execution_count": 0,
      "outputs": []
    },
    {
      "cell_type": "code",
      "metadata": {
        "id": "qDXR_yOE83Rk",
        "colab_type": "code",
        "colab": {}
      },
      "source": [
        "fill_mat = tf.fill((4,4),10)"
      ],
      "execution_count": 0,
      "outputs": []
    },
    {
      "cell_type": "code",
      "metadata": {
        "id": "gg9fBNf_83Rl",
        "colab_type": "code",
        "colab": {}
      },
      "source": [
        "myzeros = tf.zeros((4,4))"
      ],
      "execution_count": 0,
      "outputs": []
    },
    {
      "cell_type": "code",
      "metadata": {
        "id": "nagwFQy-83Rn",
        "colab_type": "code",
        "colab": {}
      },
      "source": [
        "myones = tf.ones((4,4))"
      ],
      "execution_count": 0,
      "outputs": []
    },
    {
      "cell_type": "code",
      "metadata": {
        "id": "-PP6S6Uj83Rq",
        "colab_type": "code",
        "colab": {}
      },
      "source": [
        "myrandn = tf.random_normal((4,4),mean=0,stddev=0.5)"
      ],
      "execution_count": 0,
      "outputs": []
    },
    {
      "cell_type": "code",
      "metadata": {
        "id": "6szxBRLX83Rs",
        "colab_type": "code",
        "colab": {}
      },
      "source": [
        "myrandu = tf.random_uniform((4,4),minval=0,maxval=1)"
      ],
      "execution_count": 0,
      "outputs": []
    },
    {
      "cell_type": "code",
      "metadata": {
        "id": "X0GsJfXA83Ru",
        "colab_type": "code",
        "colab": {}
      },
      "source": [
        "my_ops = [const,fill_mat,myzeros,myones,myrandn,myrandu]"
      ],
      "execution_count": 0,
      "outputs": []
    },
    {
      "cell_type": "markdown",
      "metadata": {
        "id": "54r8Q9LP83Rw",
        "colab_type": "text"
      },
      "source": [
        "## Interactive Session\n",
        "\n",
        "Useful for Notebook Sessions"
      ]
    },
    {
      "cell_type": "code",
      "metadata": {
        "id": "OeJW1s7883Rx",
        "colab_type": "code",
        "colab": {}
      },
      "source": [
        "# Only run this cell once!\n",
        "sess = tf.InteractiveSession()"
      ],
      "execution_count": 0,
      "outputs": []
    },
    {
      "cell_type": "code",
      "metadata": {
        "id": "7nGkZH-i83Rz",
        "colab_type": "code",
        "colab": {
          "base_uri": "https://localhost:8080/",
          "height": 571
        },
        "outputId": "c83b0dc1-8952-4b16-8869-23afdbe7e213"
      },
      "source": [
        "for op in my_ops:\n",
        "    print(op.eval())\n",
        "    print('\\n')"
      ],
      "execution_count": 24,
      "outputs": [
        {
          "output_type": "stream",
          "text": [
            "10\n",
            "\n",
            "\n",
            "[[10 10 10 10]\n",
            " [10 10 10 10]\n",
            " [10 10 10 10]\n",
            " [10 10 10 10]]\n",
            "\n",
            "\n",
            "[[0. 0. 0. 0.]\n",
            " [0. 0. 0. 0.]\n",
            " [0. 0. 0. 0.]\n",
            " [0. 0. 0. 0.]]\n",
            "\n",
            "\n",
            "[[1. 1. 1. 1.]\n",
            " [1. 1. 1. 1.]\n",
            " [1. 1. 1. 1.]\n",
            " [1. 1. 1. 1.]]\n",
            "\n",
            "\n",
            "[[-0.84488213 -0.14671259  0.48219392  0.07293254]\n",
            " [ 0.10120542  0.7077379   0.15651898 -0.40191284]\n",
            " [ 0.9496361   0.35173935  0.78843766 -0.12703824]\n",
            " [-1.1044824  -1.1417813   0.57258356 -0.2362017 ]]\n",
            "\n",
            "\n",
            "[[0.5534471  0.22846925 0.46180356 0.80299973]\n",
            " [0.14883602 0.3072784  0.7886574  0.5915749 ]\n",
            " [0.22780132 0.3647033  0.38866484 0.69918346]\n",
            " [0.9664992  0.10375988 0.5434265  0.18460023]]\n",
            "\n",
            "\n"
          ],
          "name": "stdout"
        }
      ]
    },
    {
      "cell_type": "markdown",
      "metadata": {
        "id": "cGdTBzXG83R1",
        "colab_type": "text"
      },
      "source": [
        "## Matrix Multiplication"
      ]
    },
    {
      "cell_type": "code",
      "metadata": {
        "id": "86KvKRHg83R1",
        "colab_type": "code",
        "colab": {}
      },
      "source": [
        "a = tf.constant([ [1,2],\n",
        "                  [3,4] ])"
      ],
      "execution_count": 0,
      "outputs": []
    },
    {
      "cell_type": "code",
      "metadata": {
        "id": "06-Oq-cE83R3",
        "colab_type": "code",
        "colab": {
          "base_uri": "https://localhost:8080/",
          "height": 34
        },
        "outputId": "fe4e3639-8cdb-4ee4-cd87-e0e336ce9be5"
      },
      "source": [
        "a.get_shape()"
      ],
      "execution_count": 26,
      "outputs": [
        {
          "output_type": "execute_result",
          "data": {
            "text/plain": [
              "TensorShape([Dimension(2), Dimension(2)])"
            ]
          },
          "metadata": {
            "tags": []
          },
          "execution_count": 26
        }
      ]
    },
    {
      "cell_type": "code",
      "metadata": {
        "id": "JWW-N-Dn83R5",
        "colab_type": "code",
        "colab": {}
      },
      "source": [
        "b = tf.constant([[10],[100]])"
      ],
      "execution_count": 0,
      "outputs": []
    },
    {
      "cell_type": "code",
      "metadata": {
        "id": "FhF7YDig83R7",
        "colab_type": "code",
        "colab": {
          "base_uri": "https://localhost:8080/",
          "height": 34
        },
        "outputId": "d3e06098-9961-4d7d-f177-eb228e9f17e8"
      },
      "source": [
        "b.get_shape()"
      ],
      "execution_count": 28,
      "outputs": [
        {
          "output_type": "execute_result",
          "data": {
            "text/plain": [
              "TensorShape([Dimension(2), Dimension(1)])"
            ]
          },
          "metadata": {
            "tags": []
          },
          "execution_count": 28
        }
      ]
    },
    {
      "cell_type": "code",
      "metadata": {
        "id": "TopasrQl83R9",
        "colab_type": "code",
        "colab": {}
      },
      "source": [
        "result = tf.matmul(a,b)"
      ],
      "execution_count": 0,
      "outputs": []
    },
    {
      "cell_type": "code",
      "metadata": {
        "id": "Kl1K9ZBs83R_",
        "colab_type": "code",
        "colab": {
          "base_uri": "https://localhost:8080/",
          "height": 50
        },
        "outputId": "27413daf-d7c7-4dd3-ac24-a3cf6da848bf"
      },
      "source": [
        "result.eval()"
      ],
      "execution_count": 30,
      "outputs": [
        {
          "output_type": "execute_result",
          "data": {
            "text/plain": [
              "array([[210],\n",
              "       [430]], dtype=int32)"
            ]
          },
          "metadata": {
            "tags": []
          },
          "execution_count": 30
        }
      ]
    }
  ]
}